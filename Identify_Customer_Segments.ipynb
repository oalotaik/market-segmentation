{
 "cells": [
  {
   "cell_type": "markdown",
   "metadata": {},
   "source": [
    "# Project: Identify Customer Segments\n",
    "\n",
    "In this project, you will apply unsupervised learning techniques to identify segments of the population that form the core customer base for a mail-order sales company in Germany. These segments can then be used to direct marketing campaigns towards audiences that will have the highest expected rate of returns. The data that you will use has been provided by our partners at Bertelsmann Arvato Analytics, and represents a real-life data science task.\n",
    "\n",
    "This notebook will help you complete this task by providing a framework within which you will perform your analysis steps. In each step of the project, you will see some text describing the subtask that you will perform, followed by one or more code cells for you to complete your work. **Feel free to add additional code and markdown cells as you go along so that you can explore everything in precise chunks.** The code cells provided in the base template will outline only the major tasks, and will usually not be enough to cover all of the minor tasks that comprise it.\n",
    "\n",
    "It should be noted that while there will be precise guidelines on how you should handle certain tasks in the project, there will also be places where an exact specification is not provided. **There will be times in the project where you will need to make and justify your own decisions on how to treat the data.** These are places where there may not be only one way to handle the data. In real-life tasks, there may be many valid ways to approach an analysis task. One of the most important things you can do is clearly document your approach so that other scientists can understand the decisions you've made.\n",
    "\n",
    "At the end of most sections, there will be a Markdown cell labeled **Discussion**. In these cells, you will report your findings for the completed section, as well as document the decisions that you made in your approach to each subtask. **Your project will be evaluated not just on the code used to complete the tasks outlined, but also your communication about your observations and conclusions at each stage.**"
   ]
  },
  {
   "cell_type": "code",
   "execution_count": 1,
   "metadata": {},
   "outputs": [],
   "source": [
    "# import libraries here; add more as necessary\n",
    "import numpy as np\n",
    "import pandas as pd\n",
    "import matplotlib.pyplot as plt\n",
    "from sklearn.preprocessing import StandardScaler\n",
    "from sklearn.decomposition import PCA\n",
    "from sklearn.cluster import KMeans\n",
    "import seaborn as sb\n",
    "sb.set_style(style='dark')\n",
    "\n",
    "# magic word for producing visualizations in notebook\n",
    "%matplotlib inline"
   ]
  },
  {
   "cell_type": "markdown",
   "metadata": {},
   "source": [
    "### Step 0: Load the Data\n",
    "\n",
    "There are four files associated with this project (not including this one):\n",
    "\n",
    "- `Udacity_AZDIAS_Subset.csv`: Demographics data for the general population of Germany; 891211 persons (rows) x 85 features (columns).\n",
    "- `Udacity_CUSTOMERS_Subset.csv`: Demographics data for customers of a mail-order company; 191652 persons (rows) x 85 features (columns).\n",
    "- `Data_Dictionary.md`: Detailed information file about the features in the provided datasets.\n",
    "- `AZDIAS_Feature_Summary.csv`: Summary of feature attributes for demographics data; 85 features (rows) x 4 columns\n",
    "\n",
    "Each row of the demographics files represents a single person, but also includes information outside of individuals, including information about their household, building, and neighborhood. You will use this information to cluster the general population into groups with similar demographic properties. Then, you will see how the people in the customers dataset fit into those created clusters. The hope here is that certain clusters are over-represented in the customers data, as compared to the general population; those over-represented clusters will be assumed to be part of the core userbase. This information can then be used for further applications, such as targeting for a marketing campaign.\n",
    "\n",
    "To start off with, load in the demographics data for the general population into a pandas DataFrame, and do the same for the feature attributes summary. Note for all of the `.csv` data files in this project: they're semicolon (`;`) delimited, so you'll need an additional argument in your [`read_csv()`](https://pandas.pydata.org/pandas-docs/stable/generated/pandas.read_csv.html) call to read in the data properly. Also, considering the size of the main dataset, it may take some time for it to load completely.\n",
    "\n",
    "Once the dataset is loaded, it's recommended that you take a little bit of time just browsing the general structure of the dataset and feature summary file. You'll be getting deep into the innards of the cleaning in the first major step of the project, so gaining some general familiarity can help you get your bearings."
   ]
  },
  {
   "cell_type": "code",
   "execution_count": 2,
   "metadata": {},
   "outputs": [],
   "source": [
    "# Load in the general demographics data.\n",
    "azdias = pd.read_csv('Udacity_AZDIAS_Subset.csv', delimiter=';')\n",
    "\n",
    "# Load in the feature summary file.\n",
    "feat_info = pd.read_csv('AZDIAS_Feature_Summary.csv', delimiter=';')"
   ]
  },
  {
   "cell_type": "code",
   "execution_count": 3,
   "metadata": {},
   "outputs": [
    {
     "name": "stdout",
     "output_type": "stream",
     "text": [
      "Number of rows for general pop data:  891221\n",
      "Number of columns for general pop data:  85\n"
     ]
    },
    {
     "data": {
      "text/html": [
       "<div>\n",
       "<style scoped>\n",
       "    .dataframe tbody tr th:only-of-type {\n",
       "        vertical-align: middle;\n",
       "    }\n",
       "\n",
       "    .dataframe tbody tr th {\n",
       "        vertical-align: top;\n",
       "    }\n",
       "\n",
       "    .dataframe thead th {\n",
       "        text-align: right;\n",
       "    }\n",
       "</style>\n",
       "<table border=\"1\" class=\"dataframe\">\n",
       "  <thead>\n",
       "    <tr style=\"text-align: right;\">\n",
       "      <th></th>\n",
       "      <th>AGER_TYP</th>\n",
       "      <th>ALTERSKATEGORIE_GROB</th>\n",
       "      <th>ANREDE_KZ</th>\n",
       "      <th>CJT_GESAMTTYP</th>\n",
       "      <th>FINANZ_MINIMALIST</th>\n",
       "      <th>FINANZ_SPARER</th>\n",
       "      <th>FINANZ_VORSORGER</th>\n",
       "      <th>FINANZ_ANLEGER</th>\n",
       "      <th>FINANZ_UNAUFFAELLIGER</th>\n",
       "      <th>FINANZ_HAUSBAUER</th>\n",
       "      <th>...</th>\n",
       "      <th>PLZ8_ANTG1</th>\n",
       "      <th>PLZ8_ANTG2</th>\n",
       "      <th>PLZ8_ANTG3</th>\n",
       "      <th>PLZ8_ANTG4</th>\n",
       "      <th>PLZ8_BAUMAX</th>\n",
       "      <th>PLZ8_HHZ</th>\n",
       "      <th>PLZ8_GBZ</th>\n",
       "      <th>ARBEIT</th>\n",
       "      <th>ORTSGR_KLS9</th>\n",
       "      <th>RELAT_AB</th>\n",
       "    </tr>\n",
       "  </thead>\n",
       "  <tbody>\n",
       "    <tr>\n",
       "      <th>0</th>\n",
       "      <td>-1</td>\n",
       "      <td>2</td>\n",
       "      <td>1</td>\n",
       "      <td>2.0</td>\n",
       "      <td>3</td>\n",
       "      <td>4</td>\n",
       "      <td>3</td>\n",
       "      <td>5</td>\n",
       "      <td>5</td>\n",
       "      <td>3</td>\n",
       "      <td>...</td>\n",
       "      <td>NaN</td>\n",
       "      <td>NaN</td>\n",
       "      <td>NaN</td>\n",
       "      <td>NaN</td>\n",
       "      <td>NaN</td>\n",
       "      <td>NaN</td>\n",
       "      <td>NaN</td>\n",
       "      <td>NaN</td>\n",
       "      <td>NaN</td>\n",
       "      <td>NaN</td>\n",
       "    </tr>\n",
       "    <tr>\n",
       "      <th>1</th>\n",
       "      <td>-1</td>\n",
       "      <td>1</td>\n",
       "      <td>2</td>\n",
       "      <td>5.0</td>\n",
       "      <td>1</td>\n",
       "      <td>5</td>\n",
       "      <td>2</td>\n",
       "      <td>5</td>\n",
       "      <td>4</td>\n",
       "      <td>5</td>\n",
       "      <td>...</td>\n",
       "      <td>2.0</td>\n",
       "      <td>3.0</td>\n",
       "      <td>2.0</td>\n",
       "      <td>1.0</td>\n",
       "      <td>1.0</td>\n",
       "      <td>5.0</td>\n",
       "      <td>4.0</td>\n",
       "      <td>3.0</td>\n",
       "      <td>5.0</td>\n",
       "      <td>4.0</td>\n",
       "    </tr>\n",
       "    <tr>\n",
       "      <th>2</th>\n",
       "      <td>-1</td>\n",
       "      <td>3</td>\n",
       "      <td>2</td>\n",
       "      <td>3.0</td>\n",
       "      <td>1</td>\n",
       "      <td>4</td>\n",
       "      <td>1</td>\n",
       "      <td>2</td>\n",
       "      <td>3</td>\n",
       "      <td>5</td>\n",
       "      <td>...</td>\n",
       "      <td>3.0</td>\n",
       "      <td>3.0</td>\n",
       "      <td>1.0</td>\n",
       "      <td>0.0</td>\n",
       "      <td>1.0</td>\n",
       "      <td>4.0</td>\n",
       "      <td>4.0</td>\n",
       "      <td>3.0</td>\n",
       "      <td>5.0</td>\n",
       "      <td>2.0</td>\n",
       "    </tr>\n",
       "    <tr>\n",
       "      <th>3</th>\n",
       "      <td>2</td>\n",
       "      <td>4</td>\n",
       "      <td>2</td>\n",
       "      <td>2.0</td>\n",
       "      <td>4</td>\n",
       "      <td>2</td>\n",
       "      <td>5</td>\n",
       "      <td>2</td>\n",
       "      <td>1</td>\n",
       "      <td>2</td>\n",
       "      <td>...</td>\n",
       "      <td>2.0</td>\n",
       "      <td>2.0</td>\n",
       "      <td>2.0</td>\n",
       "      <td>0.0</td>\n",
       "      <td>1.0</td>\n",
       "      <td>3.0</td>\n",
       "      <td>4.0</td>\n",
       "      <td>2.0</td>\n",
       "      <td>3.0</td>\n",
       "      <td>3.0</td>\n",
       "    </tr>\n",
       "    <tr>\n",
       "      <th>4</th>\n",
       "      <td>-1</td>\n",
       "      <td>3</td>\n",
       "      <td>1</td>\n",
       "      <td>5.0</td>\n",
       "      <td>4</td>\n",
       "      <td>3</td>\n",
       "      <td>4</td>\n",
       "      <td>1</td>\n",
       "      <td>3</td>\n",
       "      <td>2</td>\n",
       "      <td>...</td>\n",
       "      <td>2.0</td>\n",
       "      <td>4.0</td>\n",
       "      <td>2.0</td>\n",
       "      <td>1.0</td>\n",
       "      <td>2.0</td>\n",
       "      <td>3.0</td>\n",
       "      <td>3.0</td>\n",
       "      <td>4.0</td>\n",
       "      <td>6.0</td>\n",
       "      <td>5.0</td>\n",
       "    </tr>\n",
       "  </tbody>\n",
       "</table>\n",
       "<p>5 rows × 85 columns</p>\n",
       "</div>"
      ],
      "text/plain": [
       "   AGER_TYP  ALTERSKATEGORIE_GROB  ANREDE_KZ  CJT_GESAMTTYP  \\\n",
       "0        -1                     2          1            2.0   \n",
       "1        -1                     1          2            5.0   \n",
       "2        -1                     3          2            3.0   \n",
       "3         2                     4          2            2.0   \n",
       "4        -1                     3          1            5.0   \n",
       "\n",
       "   FINANZ_MINIMALIST  FINANZ_SPARER  FINANZ_VORSORGER  FINANZ_ANLEGER  \\\n",
       "0                  3              4                 3               5   \n",
       "1                  1              5                 2               5   \n",
       "2                  1              4                 1               2   \n",
       "3                  4              2                 5               2   \n",
       "4                  4              3                 4               1   \n",
       "\n",
       "   FINANZ_UNAUFFAELLIGER  FINANZ_HAUSBAUER    ...     PLZ8_ANTG1  PLZ8_ANTG2  \\\n",
       "0                      5                 3    ...            NaN         NaN   \n",
       "1                      4                 5    ...            2.0         3.0   \n",
       "2                      3                 5    ...            3.0         3.0   \n",
       "3                      1                 2    ...            2.0         2.0   \n",
       "4                      3                 2    ...            2.0         4.0   \n",
       "\n",
       "   PLZ8_ANTG3  PLZ8_ANTG4  PLZ8_BAUMAX  PLZ8_HHZ  PLZ8_GBZ  ARBEIT  \\\n",
       "0         NaN         NaN          NaN       NaN       NaN     NaN   \n",
       "1         2.0         1.0          1.0       5.0       4.0     3.0   \n",
       "2         1.0         0.0          1.0       4.0       4.0     3.0   \n",
       "3         2.0         0.0          1.0       3.0       4.0     2.0   \n",
       "4         2.0         1.0          2.0       3.0       3.0     4.0   \n",
       "\n",
       "   ORTSGR_KLS9  RELAT_AB  \n",
       "0          NaN       NaN  \n",
       "1          5.0       4.0  \n",
       "2          5.0       2.0  \n",
       "3          3.0       3.0  \n",
       "4          6.0       5.0  \n",
       "\n",
       "[5 rows x 85 columns]"
      ]
     },
     "execution_count": 3,
     "metadata": {},
     "output_type": "execute_result"
    }
   ],
   "source": [
    "# Check the structure of the data after it's loaded (e.g. print the number of\n",
    "# rows and columns, print the first few rows).\n",
    "print('Number of rows for general pop data: ', azdias.shape[0])\n",
    "print('Number of columns for general pop data: ', azdias.shape[1])\n",
    "azdias.head()"
   ]
  },
  {
   "cell_type": "code",
   "execution_count": 4,
   "metadata": {},
   "outputs": [
    {
     "data": {
      "text/html": [
       "<div>\n",
       "<style scoped>\n",
       "    .dataframe tbody tr th:only-of-type {\n",
       "        vertical-align: middle;\n",
       "    }\n",
       "\n",
       "    .dataframe tbody tr th {\n",
       "        vertical-align: top;\n",
       "    }\n",
       "\n",
       "    .dataframe thead th {\n",
       "        text-align: right;\n",
       "    }\n",
       "</style>\n",
       "<table border=\"1\" class=\"dataframe\">\n",
       "  <thead>\n",
       "    <tr style=\"text-align: right;\">\n",
       "      <th></th>\n",
       "      <th>attribute</th>\n",
       "      <th>information_level</th>\n",
       "      <th>type</th>\n",
       "      <th>missing_or_unknown</th>\n",
       "    </tr>\n",
       "  </thead>\n",
       "  <tbody>\n",
       "    <tr>\n",
       "      <th>0</th>\n",
       "      <td>AGER_TYP</td>\n",
       "      <td>person</td>\n",
       "      <td>categorical</td>\n",
       "      <td>[-1,0]</td>\n",
       "    </tr>\n",
       "    <tr>\n",
       "      <th>1</th>\n",
       "      <td>ALTERSKATEGORIE_GROB</td>\n",
       "      <td>person</td>\n",
       "      <td>ordinal</td>\n",
       "      <td>[-1,0,9]</td>\n",
       "    </tr>\n",
       "    <tr>\n",
       "      <th>2</th>\n",
       "      <td>ANREDE_KZ</td>\n",
       "      <td>person</td>\n",
       "      <td>categorical</td>\n",
       "      <td>[-1,0]</td>\n",
       "    </tr>\n",
       "    <tr>\n",
       "      <th>3</th>\n",
       "      <td>CJT_GESAMTTYP</td>\n",
       "      <td>person</td>\n",
       "      <td>categorical</td>\n",
       "      <td>[0]</td>\n",
       "    </tr>\n",
       "    <tr>\n",
       "      <th>4</th>\n",
       "      <td>FINANZ_MINIMALIST</td>\n",
       "      <td>person</td>\n",
       "      <td>ordinal</td>\n",
       "      <td>[-1]</td>\n",
       "    </tr>\n",
       "  </tbody>\n",
       "</table>\n",
       "</div>"
      ],
      "text/plain": [
       "              attribute information_level         type missing_or_unknown\n",
       "0              AGER_TYP            person  categorical             [-1,0]\n",
       "1  ALTERSKATEGORIE_GROB            person      ordinal           [-1,0,9]\n",
       "2             ANREDE_KZ            person  categorical             [-1,0]\n",
       "3         CJT_GESAMTTYP            person  categorical                [0]\n",
       "4     FINANZ_MINIMALIST            person      ordinal               [-1]"
      ]
     },
     "execution_count": 4,
     "metadata": {},
     "output_type": "execute_result"
    }
   ],
   "source": [
    "# see first few rows of feature information\n",
    "feat_info.head()"
   ]
  },
  {
   "cell_type": "markdown",
   "metadata": {},
   "source": [
    "> **Tip**: Add additional cells to keep everything in reasonably-sized chunks! Keyboard shortcut `esc --> a` (press escape to enter command mode, then press the 'A' key) adds a new cell before the active cell, and `esc --> b` adds a new cell after the active cell. If you need to convert an active cell to a markdown cell, use `esc --> m` and to convert to a code cell, use `esc --> y`. \n",
    "\n",
    "## Step 1: Preprocessing\n",
    "\n",
    "### Step 1.1: Assess Missing Data\n",
    "\n",
    "The feature summary file contains a summary of properties for each demographics data column. You will use this file to help you make cleaning decisions during this stage of the project. First of all, you should assess the demographics data in terms of missing data. Pay attention to the following points as you perform your analysis, and take notes on what you observe. Make sure that you fill in the **Discussion** cell with your findings and decisions at the end of each step that has one!\n",
    "\n",
    "#### Step 1.1.1: Convert Missing Value Codes to NaNs\n",
    "The fourth column of the feature attributes summary (loaded in above as `feat_info`) documents the codes from the data dictionary that indicate missing or unknown data. While the file encodes this as a list (e.g. `[-1,0]`), this will get read in as a string object. You'll need to do a little bit of parsing to make use of it to identify and clean the data. Convert data that matches a 'missing' or 'unknown' value code into a numpy NaN value. You might want to see how much data takes on a 'missing' or 'unknown' code, and how much data is naturally missing, as a point of interest.\n",
    "\n",
    "**As one more reminder, you are encouraged to add additional cells to break up your analysis into manageable chunks.**"
   ]
  },
  {
   "cell_type": "code",
   "execution_count": 5,
   "metadata": {},
   "outputs": [],
   "source": [
    "# parsing values in the 'missing_or_unknown' column of feat_info df\n",
    "# result: converting strings to lists with integers/strings\n",
    "\n",
    "for index, row in feat_info.iterrows():\n",
    "    new_val = row['missing_or_unknown']\n",
    "    new_val = new_val.replace('[', '').replace(']', '')\n",
    "    new_val = new_val.split(sep=',')\n",
    "    new_val = [int(x) if (x!='X' and x!='XX' and x!='') else x for x in new_val]     \n",
    "    row['missing_or_unknown'] = new_val\n"
   ]
  },
  {
   "cell_type": "code",
   "execution_count": 6,
   "metadata": {},
   "outputs": [
    {
     "data": {
      "text/html": [
       "<div>\n",
       "<style scoped>\n",
       "    .dataframe tbody tr th:only-of-type {\n",
       "        vertical-align: middle;\n",
       "    }\n",
       "\n",
       "    .dataframe tbody tr th {\n",
       "        vertical-align: top;\n",
       "    }\n",
       "\n",
       "    .dataframe thead th {\n",
       "        text-align: right;\n",
       "    }\n",
       "</style>\n",
       "<table border=\"1\" class=\"dataframe\">\n",
       "  <thead>\n",
       "    <tr style=\"text-align: right;\">\n",
       "      <th></th>\n",
       "      <th>information_level</th>\n",
       "      <th>type</th>\n",
       "      <th>missing_or_unknown</th>\n",
       "    </tr>\n",
       "    <tr>\n",
       "      <th>attribute</th>\n",
       "      <th></th>\n",
       "      <th></th>\n",
       "      <th></th>\n",
       "    </tr>\n",
       "  </thead>\n",
       "  <tbody>\n",
       "    <tr>\n",
       "      <th>AGER_TYP</th>\n",
       "      <td>person</td>\n",
       "      <td>categorical</td>\n",
       "      <td>[-1, 0]</td>\n",
       "    </tr>\n",
       "    <tr>\n",
       "      <th>ALTERSKATEGORIE_GROB</th>\n",
       "      <td>person</td>\n",
       "      <td>ordinal</td>\n",
       "      <td>[-1, 0, 9]</td>\n",
       "    </tr>\n",
       "    <tr>\n",
       "      <th>ANREDE_KZ</th>\n",
       "      <td>person</td>\n",
       "      <td>categorical</td>\n",
       "      <td>[-1, 0]</td>\n",
       "    </tr>\n",
       "    <tr>\n",
       "      <th>CJT_GESAMTTYP</th>\n",
       "      <td>person</td>\n",
       "      <td>categorical</td>\n",
       "      <td>[0]</td>\n",
       "    </tr>\n",
       "    <tr>\n",
       "      <th>FINANZ_MINIMALIST</th>\n",
       "      <td>person</td>\n",
       "      <td>ordinal</td>\n",
       "      <td>[-1]</td>\n",
       "    </tr>\n",
       "  </tbody>\n",
       "</table>\n",
       "</div>"
      ],
      "text/plain": [
       "                     information_level         type missing_or_unknown\n",
       "attribute                                                             \n",
       "AGER_TYP                        person  categorical            [-1, 0]\n",
       "ALTERSKATEGORIE_GROB            person      ordinal         [-1, 0, 9]\n",
       "ANREDE_KZ                       person  categorical            [-1, 0]\n",
       "CJT_GESAMTTYP                   person  categorical                [0]\n",
       "FINANZ_MINIMALIST               person      ordinal               [-1]"
      ]
     },
     "execution_count": 6,
     "metadata": {},
     "output_type": "execute_result"
    }
   ],
   "source": [
    "# set index of feat_info to be the attribute column\n",
    "feat_info.set_index('attribute', inplace=True)\n",
    "feat_info.head()"
   ]
  },
  {
   "cell_type": "code",
   "execution_count": 7,
   "metadata": {},
   "outputs": [],
   "source": [
    "# Identify missing or unknown data values and convert them to NaNs.\n",
    "# first: extract column names\n",
    "columns = azdias.columns\n",
    "\n",
    "# now: replace missing values codes with NaNs\n",
    "for col in columns:\n",
    "    azdias[col].replace(feat_info.loc[col, 'missing_or_unknown'], np.nan, inplace=True)\n",
    "    "
   ]
  },
  {
   "cell_type": "code",
   "execution_count": 8,
   "metadata": {},
   "outputs": [
    {
     "data": {
      "text/html": [
       "<div>\n",
       "<style scoped>\n",
       "    .dataframe tbody tr th:only-of-type {\n",
       "        vertical-align: middle;\n",
       "    }\n",
       "\n",
       "    .dataframe tbody tr th {\n",
       "        vertical-align: top;\n",
       "    }\n",
       "\n",
       "    .dataframe thead th {\n",
       "        text-align: right;\n",
       "    }\n",
       "</style>\n",
       "<table border=\"1\" class=\"dataframe\">\n",
       "  <thead>\n",
       "    <tr style=\"text-align: right;\">\n",
       "      <th></th>\n",
       "      <th>AGER_TYP</th>\n",
       "      <th>ALTERSKATEGORIE_GROB</th>\n",
       "      <th>ANREDE_KZ</th>\n",
       "      <th>CJT_GESAMTTYP</th>\n",
       "      <th>FINANZ_MINIMALIST</th>\n",
       "      <th>FINANZ_SPARER</th>\n",
       "      <th>FINANZ_VORSORGER</th>\n",
       "      <th>FINANZ_ANLEGER</th>\n",
       "      <th>FINANZ_UNAUFFAELLIGER</th>\n",
       "      <th>FINANZ_HAUSBAUER</th>\n",
       "      <th>...</th>\n",
       "      <th>PLZ8_ANTG1</th>\n",
       "      <th>PLZ8_ANTG2</th>\n",
       "      <th>PLZ8_ANTG3</th>\n",
       "      <th>PLZ8_ANTG4</th>\n",
       "      <th>PLZ8_BAUMAX</th>\n",
       "      <th>PLZ8_HHZ</th>\n",
       "      <th>PLZ8_GBZ</th>\n",
       "      <th>ARBEIT</th>\n",
       "      <th>ORTSGR_KLS9</th>\n",
       "      <th>RELAT_AB</th>\n",
       "    </tr>\n",
       "  </thead>\n",
       "  <tbody>\n",
       "    <tr>\n",
       "      <th>0</th>\n",
       "      <td>NaN</td>\n",
       "      <td>2.0</td>\n",
       "      <td>1</td>\n",
       "      <td>2.0</td>\n",
       "      <td>3</td>\n",
       "      <td>4</td>\n",
       "      <td>3</td>\n",
       "      <td>5</td>\n",
       "      <td>5</td>\n",
       "      <td>3</td>\n",
       "      <td>...</td>\n",
       "      <td>NaN</td>\n",
       "      <td>NaN</td>\n",
       "      <td>NaN</td>\n",
       "      <td>NaN</td>\n",
       "      <td>NaN</td>\n",
       "      <td>NaN</td>\n",
       "      <td>NaN</td>\n",
       "      <td>NaN</td>\n",
       "      <td>NaN</td>\n",
       "      <td>NaN</td>\n",
       "    </tr>\n",
       "    <tr>\n",
       "      <th>1</th>\n",
       "      <td>NaN</td>\n",
       "      <td>1.0</td>\n",
       "      <td>2</td>\n",
       "      <td>5.0</td>\n",
       "      <td>1</td>\n",
       "      <td>5</td>\n",
       "      <td>2</td>\n",
       "      <td>5</td>\n",
       "      <td>4</td>\n",
       "      <td>5</td>\n",
       "      <td>...</td>\n",
       "      <td>2.0</td>\n",
       "      <td>3.0</td>\n",
       "      <td>2.0</td>\n",
       "      <td>1.0</td>\n",
       "      <td>1.0</td>\n",
       "      <td>5.0</td>\n",
       "      <td>4.0</td>\n",
       "      <td>3.0</td>\n",
       "      <td>5.0</td>\n",
       "      <td>4.0</td>\n",
       "    </tr>\n",
       "    <tr>\n",
       "      <th>2</th>\n",
       "      <td>NaN</td>\n",
       "      <td>3.0</td>\n",
       "      <td>2</td>\n",
       "      <td>3.0</td>\n",
       "      <td>1</td>\n",
       "      <td>4</td>\n",
       "      <td>1</td>\n",
       "      <td>2</td>\n",
       "      <td>3</td>\n",
       "      <td>5</td>\n",
       "      <td>...</td>\n",
       "      <td>3.0</td>\n",
       "      <td>3.0</td>\n",
       "      <td>1.0</td>\n",
       "      <td>0.0</td>\n",
       "      <td>1.0</td>\n",
       "      <td>4.0</td>\n",
       "      <td>4.0</td>\n",
       "      <td>3.0</td>\n",
       "      <td>5.0</td>\n",
       "      <td>2.0</td>\n",
       "    </tr>\n",
       "    <tr>\n",
       "      <th>3</th>\n",
       "      <td>2.0</td>\n",
       "      <td>4.0</td>\n",
       "      <td>2</td>\n",
       "      <td>2.0</td>\n",
       "      <td>4</td>\n",
       "      <td>2</td>\n",
       "      <td>5</td>\n",
       "      <td>2</td>\n",
       "      <td>1</td>\n",
       "      <td>2</td>\n",
       "      <td>...</td>\n",
       "      <td>2.0</td>\n",
       "      <td>2.0</td>\n",
       "      <td>2.0</td>\n",
       "      <td>0.0</td>\n",
       "      <td>1.0</td>\n",
       "      <td>3.0</td>\n",
       "      <td>4.0</td>\n",
       "      <td>2.0</td>\n",
       "      <td>3.0</td>\n",
       "      <td>3.0</td>\n",
       "    </tr>\n",
       "    <tr>\n",
       "      <th>4</th>\n",
       "      <td>NaN</td>\n",
       "      <td>3.0</td>\n",
       "      <td>1</td>\n",
       "      <td>5.0</td>\n",
       "      <td>4</td>\n",
       "      <td>3</td>\n",
       "      <td>4</td>\n",
       "      <td>1</td>\n",
       "      <td>3</td>\n",
       "      <td>2</td>\n",
       "      <td>...</td>\n",
       "      <td>2.0</td>\n",
       "      <td>4.0</td>\n",
       "      <td>2.0</td>\n",
       "      <td>1.0</td>\n",
       "      <td>2.0</td>\n",
       "      <td>3.0</td>\n",
       "      <td>3.0</td>\n",
       "      <td>4.0</td>\n",
       "      <td>6.0</td>\n",
       "      <td>5.0</td>\n",
       "    </tr>\n",
       "  </tbody>\n",
       "</table>\n",
       "<p>5 rows × 85 columns</p>\n",
       "</div>"
      ],
      "text/plain": [
       "   AGER_TYP  ALTERSKATEGORIE_GROB  ANREDE_KZ  CJT_GESAMTTYP  \\\n",
       "0       NaN                   2.0          1            2.0   \n",
       "1       NaN                   1.0          2            5.0   \n",
       "2       NaN                   3.0          2            3.0   \n",
       "3       2.0                   4.0          2            2.0   \n",
       "4       NaN                   3.0          1            5.0   \n",
       "\n",
       "   FINANZ_MINIMALIST  FINANZ_SPARER  FINANZ_VORSORGER  FINANZ_ANLEGER  \\\n",
       "0                  3              4                 3               5   \n",
       "1                  1              5                 2               5   \n",
       "2                  1              4                 1               2   \n",
       "3                  4              2                 5               2   \n",
       "4                  4              3                 4               1   \n",
       "\n",
       "   FINANZ_UNAUFFAELLIGER  FINANZ_HAUSBAUER    ...     PLZ8_ANTG1  PLZ8_ANTG2  \\\n",
       "0                      5                 3    ...            NaN         NaN   \n",
       "1                      4                 5    ...            2.0         3.0   \n",
       "2                      3                 5    ...            3.0         3.0   \n",
       "3                      1                 2    ...            2.0         2.0   \n",
       "4                      3                 2    ...            2.0         4.0   \n",
       "\n",
       "   PLZ8_ANTG3  PLZ8_ANTG4  PLZ8_BAUMAX  PLZ8_HHZ  PLZ8_GBZ  ARBEIT  \\\n",
       "0         NaN         NaN          NaN       NaN       NaN     NaN   \n",
       "1         2.0         1.0          1.0       5.0       4.0     3.0   \n",
       "2         1.0         0.0          1.0       4.0       4.0     3.0   \n",
       "3         2.0         0.0          1.0       3.0       4.0     2.0   \n",
       "4         2.0         1.0          2.0       3.0       3.0     4.0   \n",
       "\n",
       "   ORTSGR_KLS9  RELAT_AB  \n",
       "0          NaN       NaN  \n",
       "1          5.0       4.0  \n",
       "2          5.0       2.0  \n",
       "3          3.0       3.0  \n",
       "4          6.0       5.0  \n",
       "\n",
       "[5 rows x 85 columns]"
      ]
     },
     "execution_count": 8,
     "metadata": {},
     "output_type": "execute_result"
    }
   ],
   "source": [
    "azdias.head()"
   ]
  },
  {
   "cell_type": "markdown",
   "metadata": {},
   "source": [
    "#### Step 1.1.2: Assess Missing Data in Each Column\n",
    "\n",
    "How much missing data is present in each column? There are a few columns that are outliers in terms of the proportion of values that are missing. You will want to use matplotlib's [`hist()`](https://matplotlib.org/api/_as_gen/matplotlib.pyplot.hist.html) function to visualize the distribution of missing value counts to find these columns. Identify and document these columns. While some of these columns might have justifications for keeping or re-encoding the data, for this project you should just remove them from the dataframe. (Feel free to make remarks about these outlier columns in the discussion, however!)\n",
    "\n",
    "For the remaining features, are there any patterns in which columns have, or share, missing data?"
   ]
  },
  {
   "cell_type": "code",
   "execution_count": 9,
   "metadata": {},
   "outputs": [
    {
     "name": "stdout",
     "output_type": "stream",
     "text": [
      "Total number of missing values:  8373929\n"
     ]
    }
   ],
   "source": [
    "# Investigate patterns in the amount of missing data in each column.\n",
    "original_missings = azdias.isnull().sum().sum()\n",
    "print('Total number of missing values: ', original_missings)\n",
    "#print(':::::::::')\n",
    "#print('Number of missing values in each column:\\n', azdias.isnull().sum())"
   ]
  },
  {
   "cell_type": "code",
   "execution_count": 10,
   "metadata": {},
   "outputs": [
    {
     "data": {
      "image/png": "[encoded data removed]",
      "text/plain": [
       "<matplotlib.figure.Figure at 0x7f9bceb3ec88>"
      ]
     },
     "metadata": {
      "needs_background": "light"
     },
     "output_type": "display_data"
    }
   ],
   "source": [
    "# Perform an assessment of how much missing data there is in each column of the\n",
    "# dataset.\n",
    "\n",
    "# % of missing values in each column\n",
    "percent_missing_per_col = (azdias.isnull().sum()/len(azdias))*100\n",
    "\n",
    "# visualizing patterns of missing data\n",
    "plt.hist(percent_missing_per_col, bins=50);\n",
    "plt.xlabel('% of missing values');\n",
    "plt.ylabel('Number of columns');"
   ]
  },
  {
   "cell_type": "markdown",
   "metadata": {},
   "source": [
    "#### Looking at the graph, the majority of columns are below 20%"
   ]
  },
  {
   "cell_type": "code",
   "execution_count": 11,
   "metadata": {},
   "outputs": [
    {
     "data": {
      "text/plain": [
       "AGER_TYP        76.955435\n",
       "GEBURTSJAHR     44.020282\n",
       "TITEL_KZ        99.757636\n",
       "ALTER_HH        34.813699\n",
       "KK_KUNDENTYP    65.596749\n",
       "KBA05_BAUMAX    53.468668\n",
       "dtype: float64"
      ]
     },
     "execution_count": 11,
     "metadata": {},
     "output_type": "execute_result"
    }
   ],
   "source": [
    "# Remove the outlier columns from the dataset. (You'll perform other data\n",
    "# engineering tasks such as re-encoding and imputation later.)\n",
    "'''\n",
    "outlier columns: those with 20%+ missing data\n",
    "'''\n",
    "outlier_cols = percent_missing_per_col[percent_missing_per_col>= 20]\n",
    "outlier_cols"
   ]
  },
  {
   "cell_type": "code",
   "execution_count": 12,
   "metadata": {},
   "outputs": [
    {
     "name": "stdout",
     "output_type": "stream",
     "text": [
      "Outlier columns:  ['AGER_TYP', 'GEBURTSJAHR', 'TITEL_KZ', 'ALTER_HH', 'KK_KUNDENTYP', 'KBA05_BAUMAX']\n"
     ]
    }
   ],
   "source": [
    "# retreiving the outlier columns names\n",
    "print('Outlier columns: ', outlier_cols.index.tolist())"
   ]
  },
  {
   "cell_type": "code",
   "execution_count": 13,
   "metadata": {},
   "outputs": [
    {
     "data": {
      "text/plain": [
       "(891221, 79)"
      ]
     },
     "execution_count": 13,
     "metadata": {},
     "output_type": "execute_result"
    }
   ],
   "source": [
    "# remove outlier columns\n",
    "azdias.drop(outlier_cols.index.tolist(), axis=1, inplace=True)\n",
    "azdias.shape"
   ]
  },
  {
   "cell_type": "code",
   "execution_count": 14,
   "metadata": {},
   "outputs": [
    {
     "name": "stdout",
     "output_type": "stream",
     "text": [
      "Number of missing values after removing outlier columns:  5035304\n"
     ]
    }
   ],
   "source": [
    "# new total number of missing values\n",
    "new_missings = azdias.isnull().sum().sum()\n",
    "print('Number of missing values after removing outlier columns: ', new_missings)"
   ]
  },
  {
   "cell_type": "code",
   "execution_count": 15,
   "metadata": {},
   "outputs": [
    {
     "name": "stdout",
     "output_type": "stream",
     "text": [
      "Number of columns with no missing vlues:  24\n",
      "Original total number of missing data:  8373929\n",
      "New total number of missing data:  5035304\n",
      "% change in terms of total number of missing values: % 39.8692776115\n"
     ]
    }
   ],
   "source": [
    "print('Number of columns with no missing vlues: ',len(percent_missing_per_col[percent_missing_per_col==0]))\n",
    "print('Original total number of missing data: ', original_missings)\n",
    "print('New total number of missing data: ', new_missings)\n",
    "print('% change in terms of total number of missing values: %',((original_missings-new_missings)/original_missings)*100)"
   ]
  },
  {
   "cell_type": "markdown",
   "metadata": {},
   "source": [
    "#### Discussion 1.1.2: Assess Missing Data in Each Column\n",
    "\n",
    "(Double click this cell and replace this text with your own text, reporting your observations regarding the amount of missing data in each column. Are there any patterns in missing values? Which columns were removed from the dataset?)\n",
    "\n",
    "Observations:\n",
    "1. Out of 85 columns, 24 have no missing vlues\n",
    "2. The majority of columns had less than 20% of missing data\n",
    "3. Using the arbitrary 20% threshold, outlier columns were identified (in terms of % of missing data)\n",
    "4. 6 of 85 columns were considered outliers. One of them had almost no data at all (99.7% were missing)\n",
    "5. Those 6 columns were removed\n",
    "6. The 6 columns accounted for about 40% of the missing data in the original dataset\n"
   ]
  },
  {
   "cell_type": "markdown",
   "metadata": {},
   "source": [
    "#### Step 1.1.3: Assess Missing Data in Each Row\n",
    "\n",
    "Now, you'll perform a similar assessment for the rows of the dataset. How much data is missing in each row? As with the columns, you should see some groups of points that have a very different numbers of missing values. Divide the data into two subsets: one for data points that are above some threshold for missing values, and a second subset for points below that threshold.\n",
    "\n",
    "In order to know what to do with the outlier rows, we should see if the distribution of data values on columns that are not missing data (or are missing very little data) are similar or different between the two groups. Select at least five of these columns and compare the distribution of values.\n",
    "- You can use seaborn's [`countplot()`](https://seaborn.pydata.org/generated/seaborn.countplot.html) function to create a bar chart of code frequencies and matplotlib's [`subplot()`](https://matplotlib.org/api/_as_gen/matplotlib.pyplot.subplot.html) function to put bar charts for the two subplots side by side.\n",
    "- To reduce repeated code, you might want to write a function that can perform this comparison, taking as one of its arguments a column to be compared.\n",
    "\n",
    "Depending on what you observe in your comparison, this will have implications on how you approach your conclusions later in the analysis. If the distributions of non-missing features look similar between the data with many missing values and the data with few or no missing values, then we could argue that simply dropping those points from the analysis won't present a major issue. On the other hand, if the data with many missing values looks very different from the data with few or no missing values, then we should make a note on those data as special. We'll revisit these data later on. **Either way, you should continue your analysis for now using just the subset of the data with few or no missing values.**"
   ]
  },
  {
   "cell_type": "code",
   "execution_count": 16,
   "metadata": {},
   "outputs": [
    {
     "data": {
      "image/png": "[encoded data removed]",
      "text/plain": [
       "<matplotlib.figure.Figure at 0x7f9bce404e10>"
      ]
     },
     "metadata": {
      "needs_background": "light"
     },
     "output_type": "display_data"
    }
   ],
   "source": [
    "# How much data is missing in each row of the dataset?\n",
    "\n",
    "# number of missing values in each row\n",
    "number_missing_per_row = azdias.isnull().sum(axis=1)\n",
    "\n",
    "# visualizing patterns of missing data \n",
    "plt.hist(number_missing_per_row, bins=60);\n",
    "plt.xlabel('Number of missing values');\n",
    "plt.ylabel('Number of rows');"
   ]
  },
  {
   "cell_type": "code",
   "execution_count": 17,
   "metadata": {},
   "outputs": [],
   "source": [
    "# Write code to divide the data into two subsets based on the number of missing\n",
    "# values in each row.\n",
    "\n",
    "# arbitrary limit = 5\n",
    "# data with fewer than 5 missing values in each row\n",
    "azdias_fewer_5 = azdias[azdias.isnull().sum(axis=1) <= 5]\n",
    "\n",
    "# data with more than 5 missing values in each row\n",
    "azdias_more_5 = azdias[azdias.isnull().sum(axis=1) > 5]"
   ]
  },
  {
   "cell_type": "code",
   "execution_count": 18,
   "metadata": {},
   "outputs": [],
   "source": [
    "# Compare the distribution of values for at least five columns where there are\n",
    "# no or few missing values, between the two subsets.\n",
    "\n",
    "no_missing = percent_missing_per_col[percent_missing_per_col==0].index.tolist()\n",
    "\n",
    "# number of columns used for comparison\n",
    "number_cols = 10\n",
    "\n",
    "cols_to_compare = no_missing[:number_cols]"
   ]
  },
  {
   "cell_type": "code",
   "execution_count": 19,
   "metadata": {},
   "outputs": [
    {
     "data": {
      "image/png": "[encoded data removed]",
      "text/plain": [
       "<matplotlib.figure.Figure at 0x7f9bce2aab70>"
      ]
     },
     "metadata": {
      "needs_background": "light"
     },
     "output_type": "display_data"
    }
   ],
   "source": [
    "# create figure with subplots\n",
    "figure, axs = plt.subplots(nrows=number_cols, ncols=2, figsize = (15,30))\n",
    "\n",
    "# add margins between subplots\n",
    "figure.subplots_adjust(hspace=.7, wspace=0.3)\n",
    "\n",
    "for i in range(number_cols):\n",
    "    sb.countplot(azdias_fewer_5[cols_to_compare[i]], ax=axs[i][0])\n",
    "    axs[i][0].set_title('No/Few missing values')\n",
    "    sb.countplot(azdias_more_5[cols_to_compare[i]], ax=axs[i][1])\n",
    "    axs[i][1].set_title('Many missing values')\n"
   ]
  },
  {
   "cell_type": "code",
   "execution_count": 20,
   "metadata": {},
   "outputs": [
    {
     "name": "stdout",
     "output_type": "stream",
     "text": [
      "Number of rows for dataset with few missing values in its rows:  719624\n",
      "Number of rows for dataset with many missing values in its rows:  171597\n"
     ]
    }
   ],
   "source": [
    "print('Number of rows for dataset with few missing values in its rows: ', len(azdias_fewer_5))\n",
    "print('Number of rows for dataset with many missing values in its rows: ', len(azdias_more_5))"
   ]
  },
  {
   "cell_type": "markdown",
   "metadata": {},
   "source": [
    "#### Discussion 1.1.3: Assess Missing Data in Each Row\n",
    "\n",
    "(Double-click this cell and replace this text with your own text, reporting your observations regarding missing data in rows. Are the data with lots of missing values are qualitatively different from data with few or no missing values?)\n",
    "\n",
    "**Looking at the graphs, it's obvious that the distributions of features change significantly between rows without missing values and rows with many missing values (Except perhaps those attributes that are related to gender)**\n",
    "\n",
    "**From now on, data with few missing values in rows will be used.**"
   ]
  },
  {
   "cell_type": "markdown",
   "metadata": {},
   "source": [
    "### Step 1.2: Select and Re-Encode Features\n",
    "\n",
    "Checking for missing data isn't the only way in which you can prepare a dataset for analysis. Since the unsupervised learning techniques to be used will only work on data that is encoded numerically, you need to make a few encoding changes or additional assumptions to be able to make progress. In addition, while almost all of the values in the dataset are encoded using numbers, not all of them represent numeric values. Check the third column of the feature summary (`feat_info`) for a summary of types of measurement.\n",
    "- For numeric and interval data, these features can be kept without changes.\n",
    "- Most of the variables in the dataset are ordinal in nature. While ordinal values may technically be non-linear in spacing, make the simplifying assumption that the ordinal variables can be treated as being interval in nature (that is, kept without any changes).\n",
    "- Special handling may be necessary for the remaining two variable types: categorical, and 'mixed'.\n",
    "\n",
    "In the first two parts of this sub-step, you will perform an investigation of the categorical and mixed-type features and make a decision on each of them, whether you will keep, drop, or re-encode each. Then, in the last part, you will create a new data frame with only the selected and engineered columns.\n",
    "\n",
    "Data wrangling is often the trickiest part of the data analysis process, and there's a lot of it to be done here. But stick with it: once you're done with this step, you'll be ready to get to the machine learning parts of the project!"
   ]
  },
  {
   "cell_type": "code",
   "execution_count": 21,
   "metadata": {},
   "outputs": [
    {
     "name": "stdout",
     "output_type": "stream",
     "text": [
      "ordinal        49\n",
      "categorical    21\n",
      "mixed           7\n",
      "numeric         7\n",
      "interval        1\n",
      "Name: type, dtype: int64\n"
     ]
    },
    {
     "data": {
      "image/png": "[encoded data removed]",
      "text/plain": [
       "<matplotlib.figure.Figure at 0x7f9bcdc91a20>"
      ]
     },
     "metadata": {
      "needs_background": "light"
     },
     "output_type": "display_data"
    }
   ],
   "source": [
    "# How many features are there of each data type?\n",
    "\n",
    "feat_types = feat_info['type'].value_counts()\n",
    "print(feat_types)\n",
    "sb.barplot(x = feat_types.index, y = feat_types);"
   ]
  },
  {
   "cell_type": "markdown",
   "metadata": {},
   "source": [
    "#### Step 1.2.1: Re-Encode Categorical Features\n",
    "\n",
    "For categorical data, you would ordinarily need to encode the levels as dummy variables. Depending on the number of categories, perform one of the following:\n",
    "- For binary (two-level) categoricals that take numeric values, you can keep them without needing to do anything.\n",
    "- There is one binary variable that takes on non-numeric values. For this one, you need to re-encode the values as numbers or create a dummy variable.\n",
    "- For multi-level categoricals (three or more values), you can choose to encode the values using multiple dummy variables (e.g. via [OneHotEncoder](http://scikit-learn.org/stable/modules/generated/sklearn.preprocessing.OneHotEncoder.html)), or (to keep things straightforward) just drop them from the analysis. As always, document your choices in the Discussion section."
   ]
  },
  {
   "cell_type": "code",
   "execution_count": 22,
   "metadata": {},
   "outputs": [
    {
     "data": {
      "text/plain": [
       "['NATIONALITAET_KZ',\n",
       " 'GREEN_AVANTGARDE',\n",
       " 'OST_WEST_KZ',\n",
       " 'LP_STATUS_FEIN',\n",
       " 'LP_FAMILIE_GROB',\n",
       " 'FINANZTYP',\n",
       " 'ZABEOTYP',\n",
       " 'CJT_GESAMTTYP',\n",
       " 'LP_FAMILIE_FEIN',\n",
       " 'CAMEO_DEUG_2015',\n",
       " 'GFK_URLAUBERTYP',\n",
       " 'SHOPPER_TYP',\n",
       " 'ANREDE_KZ',\n",
       " 'GEBAEUDETYP',\n",
       " 'LP_STATUS_GROB',\n",
       " 'VERS_TYP',\n",
       " 'CAMEO_DEU_2015',\n",
       " 'SOHO_KZ']"
      ]
     },
     "execution_count": 22,
     "metadata": {},
     "output_type": "execute_result"
    }
   ],
   "source": [
    "# identify categorical features\n",
    "cat_features = feat_info[feat_info['type'] == 'categorical'].index.tolist()\n",
    "\n",
    "# some of these features were dropped due to having many missing values\n",
    "\n",
    "# removing outlier categorical features\n",
    "categorical = list(set(cat_features) - set(outlier_cols.index.tolist()))\n",
    "categorical"
   ]
  },
  {
   "cell_type": "code",
   "execution_count": 23,
   "metadata": {},
   "outputs": [],
   "source": [
    "# Assess categorical variables: which are binary, which are multi-level, and\n",
    "# which one needs to be re-encoded?\n",
    "\n",
    "# create a dictionary describing categorical features\n",
    "'''\n",
    "the dictionary contains categorical features as its keys; the values are lists with two\n",
    "items: 1- string describing the type of the categorical feature(binary or multi-level), \n",
    "and 2- a list containing the unique values of the categorical feature\n",
    "'''\n",
    "\n",
    "cat_info = {}\n",
    "for feature in categorical:\n",
    "    # get unique values (including nan)\n",
    "    unique_nan = azdias[feature].unique()\n",
    "    # remove nan if it's there\n",
    "    unique = [x for x in unique_nan if not pd.isnull(x)]\n",
    "    # variable indicating if feature is binary or multi-level\n",
    "    feat_type = None\n",
    "    if len(unique) > 2:\n",
    "        feat_type = 'multi'\n",
    "    else:\n",
    "        feat_type = 'binary'\n",
    "    cat_info[feature] = [feat_type, unique]"
   ]
  },
  {
   "cell_type": "code",
   "execution_count": 24,
   "metadata": {},
   "outputs": [],
   "source": [
    "# uncomment to see contents of the created dictionary\n",
    "#cat_info"
   ]
  },
  {
   "cell_type": "code",
   "execution_count": 25,
   "metadata": {},
   "outputs": [
    {
     "name": "stdout",
     "output_type": "stream",
     "text": [
      "13 categorical features to be re-encoded\n"
     ]
    }
   ],
   "source": [
    "# categorical variables to be re-encoded: all multi, except for 'CAMEO_DEU_2015' for \n",
    "# having too many values, and 'OST_WEST_KZ', which is binary with non-numeric values\n",
    "\n",
    "to_re_encode = ['OST_WEST_KZ']\n",
    "\n",
    "# adding multi-level categorical features\n",
    "for feature, info in cat_info.items():\n",
    "    if info[0] == 'multi' and feature != 'CAMEO_DEU_2015':\n",
    "        to_re_encode.append(feature)\n",
    "print('{} categorical features to be re-encoded'.format(len(to_re_encode)))"
   ]
  },
  {
   "cell_type": "code",
   "execution_count": 26,
   "metadata": {},
   "outputs": [
    {
     "name": "stdout",
     "output_type": "stream",
     "text": [
      "Number of features after re-encoding categorical features:  152\n"
     ]
    }
   ],
   "source": [
    "# Re-encode categorical variable(s) to be kept in the analysis.\n",
    "# data with few missing values in rows is used\n",
    "features_cat_reencoded = pd.get_dummies(azdias_fewer_5, columns=to_re_encode)\n",
    "print('Number of features after re-encoding categorical features: ', len(list(features_cat_reencoded.columns)))"
   ]
  },
  {
   "cell_type": "code",
   "execution_count": 27,
   "metadata": {},
   "outputs": [
    {
     "data": {
      "text/html": [
       "<div>\n",
       "<style scoped>\n",
       "    .dataframe tbody tr th:only-of-type {\n",
       "        vertical-align: middle;\n",
       "    }\n",
       "\n",
       "    .dataframe tbody tr th {\n",
       "        vertical-align: top;\n",
       "    }\n",
       "\n",
       "    .dataframe thead th {\n",
       "        text-align: right;\n",
       "    }\n",
       "</style>\n",
       "<table border=\"1\" class=\"dataframe\">\n",
       "  <thead>\n",
       "    <tr style=\"text-align: right;\">\n",
       "      <th></th>\n",
       "      <th>ALTERSKATEGORIE_GROB</th>\n",
       "      <th>ANREDE_KZ</th>\n",
       "      <th>FINANZ_MINIMALIST</th>\n",
       "      <th>FINANZ_SPARER</th>\n",
       "      <th>FINANZ_VORSORGER</th>\n",
       "      <th>FINANZ_ANLEGER</th>\n",
       "      <th>FINANZ_UNAUFFAELLIGER</th>\n",
       "      <th>FINANZ_HAUSBAUER</th>\n",
       "      <th>GREEN_AVANTGARDE</th>\n",
       "      <th>HEALTH_TYP</th>\n",
       "      <th>...</th>\n",
       "      <th>GEBAEUDETYP_3.0</th>\n",
       "      <th>GEBAEUDETYP_4.0</th>\n",
       "      <th>GEBAEUDETYP_5.0</th>\n",
       "      <th>GEBAEUDETYP_6.0</th>\n",
       "      <th>GEBAEUDETYP_8.0</th>\n",
       "      <th>LP_STATUS_GROB_1.0</th>\n",
       "      <th>LP_STATUS_GROB_2.0</th>\n",
       "      <th>LP_STATUS_GROB_3.0</th>\n",
       "      <th>LP_STATUS_GROB_4.0</th>\n",
       "      <th>LP_STATUS_GROB_5.0</th>\n",
       "    </tr>\n",
       "  </thead>\n",
       "  <tbody>\n",
       "    <tr>\n",
       "      <th>1</th>\n",
       "      <td>1.0</td>\n",
       "      <td>2</td>\n",
       "      <td>1</td>\n",
       "      <td>5</td>\n",
       "      <td>2</td>\n",
       "      <td>5</td>\n",
       "      <td>4</td>\n",
       "      <td>5</td>\n",
       "      <td>0</td>\n",
       "      <td>3.0</td>\n",
       "      <td>...</td>\n",
       "      <td>0</td>\n",
       "      <td>0</td>\n",
       "      <td>0</td>\n",
       "      <td>0</td>\n",
       "      <td>1</td>\n",
       "      <td>1</td>\n",
       "      <td>0</td>\n",
       "      <td>0</td>\n",
       "      <td>0</td>\n",
       "      <td>0</td>\n",
       "    </tr>\n",
       "    <tr>\n",
       "      <th>2</th>\n",
       "      <td>3.0</td>\n",
       "      <td>2</td>\n",
       "      <td>1</td>\n",
       "      <td>4</td>\n",
       "      <td>1</td>\n",
       "      <td>2</td>\n",
       "      <td>3</td>\n",
       "      <td>5</td>\n",
       "      <td>1</td>\n",
       "      <td>3.0</td>\n",
       "      <td>...</td>\n",
       "      <td>0</td>\n",
       "      <td>0</td>\n",
       "      <td>0</td>\n",
       "      <td>0</td>\n",
       "      <td>0</td>\n",
       "      <td>0</td>\n",
       "      <td>1</td>\n",
       "      <td>0</td>\n",
       "      <td>0</td>\n",
       "      <td>0</td>\n",
       "    </tr>\n",
       "  </tbody>\n",
       "</table>\n",
       "<p>2 rows × 152 columns</p>\n",
       "</div>"
      ],
      "text/plain": [
       "   ALTERSKATEGORIE_GROB  ANREDE_KZ  FINANZ_MINIMALIST  FINANZ_SPARER  \\\n",
       "1                   1.0          2                  1              5   \n",
       "2                   3.0          2                  1              4   \n",
       "\n",
       "   FINANZ_VORSORGER  FINANZ_ANLEGER  FINANZ_UNAUFFAELLIGER  FINANZ_HAUSBAUER  \\\n",
       "1                 2               5                      4                 5   \n",
       "2                 1               2                      3                 5   \n",
       "\n",
       "   GREEN_AVANTGARDE  HEALTH_TYP         ...          GEBAEUDETYP_3.0  \\\n",
       "1                 0         3.0         ...                        0   \n",
       "2                 1         3.0         ...                        0   \n",
       "\n",
       "   GEBAEUDETYP_4.0  GEBAEUDETYP_5.0  GEBAEUDETYP_6.0  GEBAEUDETYP_8.0  \\\n",
       "1                0                0                0                1   \n",
       "2                0                0                0                0   \n",
       "\n",
       "   LP_STATUS_GROB_1.0  LP_STATUS_GROB_2.0  LP_STATUS_GROB_3.0  \\\n",
       "1                   1                   0                   0   \n",
       "2                   0                   1                   0   \n",
       "\n",
       "   LP_STATUS_GROB_4.0  LP_STATUS_GROB_5.0  \n",
       "1                   0                   0  \n",
       "2                   0                   0  \n",
       "\n",
       "[2 rows x 152 columns]"
      ]
     },
     "execution_count": 27,
     "metadata": {},
     "output_type": "execute_result"
    }
   ],
   "source": [
    "features_cat_reencoded.head(2)"
   ]
  },
  {
   "cell_type": "markdown",
   "metadata": {},
   "source": [
    "#### Discussion 1.2.1: Re-Encode Categorical Features\n",
    "\n",
    "(Double-click this cell and replace this text with your own text, reporting your findings and decisions regarding categorical features. Which ones did you keep, which did you drop, and what engineering steps did you perform?)\n",
    "\n",
    "**1. I removed categorical features that were cosidered outlier in terms of the number of missing values they have.**\n",
    "\n",
    "**2. I kept the binary ones with numeric values as is**\n",
    "\n",
    "**3. I re-encoded the binary feature 'OST_WEST_KZ' which has non-numeric values**\n",
    "\n",
    "**4. I kept and re-encoded all the multi-level categorical features, except for 'CAMEO_DEU_2015', which has too many values**\n",
    "\n",
    "**5. I used `pd.get_dummies()` to re-encode the features**\n"
   ]
  },
  {
   "cell_type": "markdown",
   "metadata": {},
   "source": [
    "#### Step 1.2.2: Engineer Mixed-Type Features\n",
    "\n",
    "There are a handful of features that are marked as \"mixed\" in the feature summary that require special treatment in order to be included in the analysis. There are two in particular that deserve attention; the handling of the rest are up to your own choices:\n",
    "- \"PRAEGENDE_JUGENDJAHRE\" combines information on three dimensions: generation by decade, movement (mainstream vs. avantgarde), and nation (east vs. west). While there aren't enough levels to disentangle east from west, you should create two new variables to capture the other two dimensions: an interval-type variable for decade, and a binary variable for movement.\n",
    "- \"CAMEO_INTL_2015\" combines information on two axes: wealth and life stage. Break up the two-digit codes by their 'tens'-place and 'ones'-place digits into two new ordinal variables (which, for the purposes of this project, is equivalent to just treating them as their raw numeric values).\n",
    "- If you decide to keep or engineer new features around the other mixed-type features, make sure you note your steps in the Discussion section.\n",
    "\n",
    "Be sure to check `Data_Dictionary.md` for the details needed to finish these tasks."
   ]
  },
  {
   "cell_type": "code",
   "execution_count": 28,
   "metadata": {},
   "outputs": [
    {
     "data": {
      "text/plain": [
       "['LP_LEBENSPHASE_FEIN',\n",
       " 'LP_LEBENSPHASE_GROB',\n",
       " 'PRAEGENDE_JUGENDJAHRE',\n",
       " 'WOHNLAGE',\n",
       " 'CAMEO_INTL_2015',\n",
       " 'KBA05_BAUMAX',\n",
       " 'PLZ8_BAUMAX']"
      ]
     },
     "execution_count": 28,
     "metadata": {},
     "output_type": "execute_result"
    }
   ],
   "source": [
    "# identify mixed features\n",
    "mixed_features = feat_info[feat_info['type'] == 'mixed'].index.tolist()\n",
    "mixed_features"
   ]
  },
  {
   "cell_type": "code",
   "execution_count": 29,
   "metadata": {},
   "outputs": [],
   "source": [
    "# Investigate \"PRAEGENDE_JUGENDJAHRE\" and engineer two new variables.\n",
    "features_cat_reencoded['DECADE'] = features_cat_reencoded['PRAEGENDE_JUGENDJAHRE']\n",
    "features_cat_reencoded['MOVEMENT'] = features_cat_reencoded['PRAEGENDE_JUGENDJAHRE']"
   ]
  },
  {
   "cell_type": "code",
   "execution_count": 30,
   "metadata": {},
   "outputs": [],
   "source": [
    "'''\n",
    "There are six generations. Values to represent them are: 1 through 6.\n",
    "The mapping of generations to values are as follows:\n",
    "1: 40s, 2: 50s, 3: 60s, 4: 70s, 5: 80s, and 6: 90s\n",
    "'''\n",
    "decade_map = {1:1, 2:1, 3:2, 4:2, 5:3, 6:3, 7:3, 8:4, 9:4, 10:5, 11:5, 12:5, 13:5, 14:6, 15:6}\n",
    "'''\n",
    "There are two movements. Values to represent them are: 1 and 0.\n",
    "The mapping of movements to values are as follows:\n",
    "1: Mainstream, and 0: Avantgrade.\n",
    "'''\n",
    "movement_map = {1:1, 2:0, 3:1, 4:0, 5:1, 6:0, 7:0, 8:1, 9:0, 10:1, 11:0, 12:1, 13:0, 14:1, 15:0}"
   ]
  },
  {
   "cell_type": "code",
   "execution_count": 31,
   "metadata": {},
   "outputs": [],
   "source": [
    "# modify the decade and movement columns; replcae current values with the appropriate ones\n",
    "features_cat_reencoded['DECADE'].replace(decade_map, inplace=True)\n",
    "features_cat_reencoded['MOVEMENT'].replace(movement_map, inplace=True)"
   ]
  },
  {
   "cell_type": "code",
   "execution_count": 32,
   "metadata": {},
   "outputs": [],
   "source": [
    "# Investigate \"CAMEO_INTL_2015\" and engineer two new variables.\n",
    "features_cat_reencoded['WEALTH'] = features_cat_reencoded['CAMEO_INTL_2015']\n",
    "features_cat_reencoded['LIFE_STAGE'] = features_cat_reencoded['CAMEO_INTL_2015']"
   ]
  },
  {
   "cell_type": "code",
   "execution_count": 33,
   "metadata": {},
   "outputs": [],
   "source": [
    "# mapping the new values of WEALTH and LIFE_STAGE columns to the current values\n",
    "wealth_map = {'11':1, '12':1, '13':1, '14':1, '15':1, '21':2, '22':2, '23':2, '24':2, '25':2,\n",
    "              '31':3, '32':3, '33':3, '34':3, '35':3, '41':4, '42':4, '43':4, '44':4, '45':4,\n",
    "              '51':5, '52':5, '53':5, '54':5, '55':5}\n",
    "life_stage_map = {'11':1, '12':2, '13':3, '14':4, '15':5, '21':1, '22':2, '23':3, '24':4, '25':5,\n",
    "                  '31':1, '32':2, '33':3, '34':4, '35':5, '41':1, '42':2, '43':3, '44':4, '45':5,\n",
    "                  '51':1, '52':2, '53':3, '54':4, '55':5}"
   ]
  },
  {
   "cell_type": "code",
   "execution_count": 34,
   "metadata": {},
   "outputs": [],
   "source": [
    "features_cat_reencoded['WEALTH'].replace(wealth_map, inplace=True)\n",
    "features_cat_reencoded['LIFE_STAGE'].replace(life_stage_map, inplace=True)"
   ]
  },
  {
   "cell_type": "markdown",
   "metadata": {},
   "source": [
    "#### Discussion 1.2.2: Engineer Mixed-Type Features\n",
    "\n",
    "(Double-click this cell and replace this text with your own text, reporting your findings and decisions regarding mixed-value features. Which ones did you keep, which did you drop, and what engineering steps did you perform?)\n",
    "\n",
    "1. I identified the mixed features\n",
    "2. I created two variables: DECADE, and MOVEMENT to replace 'PRAEGENDE_JUGENDJAHRE'\n",
    "3. I created two variables: WEALTH, and LIFE_STAGE to replace 'CAMEO_INTL_2015'\n",
    "4. For each of the created variables, I created a dictionary that maps new to old values\n",
    "5. I used the dictionaries to replace old values with new ones\n",
    "6. I dismissed all other mixed features"
   ]
  },
  {
   "cell_type": "markdown",
   "metadata": {},
   "source": [
    "#### Step 1.2.3: Complete Feature Selection\n",
    "\n",
    "In order to finish this step up, you need to make sure that your data frame now only has the columns that you want to keep. To summarize, the dataframe should consist of the following:\n",
    "- All numeric, interval, and ordinal type columns from the original dataset.\n",
    "- Binary categorical features (all numerically-encoded).\n",
    "- Engineered features from other multi-level categorical features and mixed features.\n",
    "\n",
    "Make sure that for any new columns that you have engineered, that you've excluded the original columns from the final dataset. Otherwise, their values will interfere with the analysis later on the project. For example, you should not keep \"PRAEGENDE_JUGENDJAHRE\", since its values won't be useful for the algorithm: only the values derived from it in the engineered features you created should be retained. As a reminder, your data should only be from **the subset with few or no missing values**."
   ]
  },
  {
   "cell_type": "code",
   "execution_count": 35,
   "metadata": {},
   "outputs": [],
   "source": [
    "# If there are other re-engineering tasks you need to perform, make sure you\n",
    "# take care of them here. (Dealing with missing data will come in step 2.1.)"
   ]
  },
  {
   "cell_type": "code",
   "execution_count": 36,
   "metadata": {},
   "outputs": [
    {
     "data": {
      "text/plain": [
       "(719624, 150)"
      ]
     },
     "execution_count": 36,
     "metadata": {},
     "output_type": "execute_result"
    }
   ],
   "source": [
    "# Do whatever you need to in order to ensure that the dataframe only contains\n",
    "# the columns that should be passed to the algorithm functions.\n",
    "\n",
    "# copy the dataframe\n",
    "final_data = pd.DataFrame(data = features_cat_reencoded)\n",
    "\n",
    "# removing 'KBA05_BAUMAX' from the mixed_features list since it's not in the data\n",
    "mixed_features.remove('KBA05_BAUMAX')\n",
    "\n",
    "# drop the original mixed-type features\n",
    "final_data.drop(mixed_features, axis = 1, inplace=True)\n",
    "final_data.shape"
   ]
  },
  {
   "cell_type": "code",
   "execution_count": 37,
   "metadata": {},
   "outputs": [],
   "source": [
    "# dropping the categorical feature 'CAMEO_DEU_2015' (as decided before)\n",
    "final_data.drop('CAMEO_DEU_2015', axis = 1, inplace=True)"
   ]
  },
  {
   "cell_type": "code",
   "execution_count": 38,
   "metadata": {
    "scrolled": true
   },
   "outputs": [
    {
     "data": {
      "text/plain": [
       "(719624, 149)"
      ]
     },
     "execution_count": 38,
     "metadata": {},
     "output_type": "execute_result"
    }
   ],
   "source": [
    "final_data.shape"
   ]
  },
  {
   "cell_type": "markdown",
   "metadata": {},
   "source": [
    "### Step 1.3: Create a Cleaning Function\n",
    "\n",
    "Even though you've finished cleaning up the general population demographics data, it's important to look ahead to the future and realize that you'll need to perform the same cleaning steps on the customer demographics data. In this substep, complete the function below to execute the main feature selection, encoding, and re-engineering steps you performed above. Then, when it comes to looking at the customer data in Step 3, you can just run this function on that DataFrame to get the trimmed dataset in a single step."
   ]
  },
  {
   "cell_type": "code",
   "execution_count": 39,
   "metadata": {},
   "outputs": [],
   "source": [
    "def cleandata(df):\n",
    "    \"\"\"\n",
    "    Perform feature trimming, re-encoding, and engineering for demographics\n",
    "    data. Assume feat_info dataframe is already defined and processed.\n",
    "    \n",
    "    INPUT: Demographics DataFrame\n",
    "    OUTPUT: Trimmed and cleaned demographics DataFrame\n",
    "    \"\"\"\n",
    "    \n",
    "    # Put in code here to execute all main cleaning steps:\n",
    "    # convert missing value codes into NaNs, ...\n",
    "    \n",
    "    # first: extract column names\n",
    "    columns = df.columns\n",
    "\n",
    "    # now: replace missing values codes with NaNs\n",
    "    for col in columns:\n",
    "        df[col].replace(feat_info.loc[col, 'missing_or_unknown'], np.nan, inplace=True)\n",
    " \n",
    "    \n",
    "    # remove selected columns and rows, ...\n",
    "    \n",
    "\n",
    "    # identify outlier columns, i.e. 20%+ missing values\n",
    "    outlier_cols = ['AGER_TYP', 'GEBURTSJAHR', 'TITEL_KZ', 'ALTER_HH', 'KK_KUNDENTYP', 'KBA05_BAUMAX']\n",
    "    # remove outlier columns\n",
    "    df.drop(outlier_cols, axis=1, inplace=True)\n",
    "    \n",
    "    # number of missing values in each row\n",
    "    #number_missing_per_row = df.isnull().sum(axis=1)\n",
    "    # keep data with fewer than 5 missing values in each row\n",
    "    df_fewer_5 = df[df.isnull().sum(axis=1) <= 5]\n",
    "    \n",
    "    \n",
    "    # select, re-encode, and engineer column values.\n",
    "    \n",
    "    # re-encode categorical variables\n",
    "    # identify categorical features\n",
    "    cat_features = feat_info[feat_info['type'] == 'categorical'].index.tolist()\n",
    "\n",
    "    # some of these features could have been dropped due to having many missing values\n",
    "    # removing outlier categorical features\n",
    "    categorical = list(set(cat_features) - set(outlier_cols))\n",
    "    \n",
    "    cat_info = {}\n",
    "    for feature in categorical:   \n",
    "        # get unique values (including nan)\n",
    "        unique_nan = df[feature].unique()\n",
    "        # remove nan if it's there\n",
    "        unique = [x for x in unique_nan if not pd.isnull(x)]\n",
    "        # variable indicating if feature is binary or multi-level\n",
    "        feat_type = None\n",
    "        if len(unique) > 2:\n",
    "            feat_type = 'multi'\n",
    "        else:\n",
    "            feat_type = 'binary'\n",
    "        cat_info[feature] = [feat_type, unique]\n",
    "        \n",
    "    # categorical variables to be re-encoded: all multi, except for 'CAMEO_DEU_2015' for \n",
    "    # having too many values, and 'OST_WEST_KZ', which is binary with non-numeric values\n",
    "\n",
    "    to_re_encode = ['OST_WEST_KZ']\n",
    "\n",
    "    # adding multi-level categorical features\n",
    "    for feature, info in cat_info.items():\n",
    "        if info[0] == 'multi' and feature != 'CAMEO_DEU_2015':\n",
    "            to_re_encode.append(feature)\n",
    "    \n",
    "    features_cat_reencoded = pd.get_dummies(df_fewer_5, columns=to_re_encode)\n",
    "    \n",
    "    # engineering mixed features\n",
    "    features_cat_reencoded['DECADE'] = features_cat_reencoded['PRAEGENDE_JUGENDJAHRE']\n",
    "    features_cat_reencoded['MOVEMENT'] = features_cat_reencoded['PRAEGENDE_JUGENDJAHRE']\n",
    "\n",
    "    decade_map = {1:1, 2:1, 3:2, 4:2, 5:3, 6:3, 7:3, 8:4, 9:4, 10:5, 11:5, 12:5, 13:5, 14:6, 15:6}\n",
    "\n",
    "    movement_map = {1:1, 2:0, 3:1, 4:0, 5:1, 6:0, 7:0, 8:1, 9:0, 10:1, 11:0, 12:1, 13:0, 14:1, 15:0}\n",
    "    features_cat_reencoded['DECADE'].replace(decade_map, inplace=True)\n",
    "    features_cat_reencoded['MOVEMENT'].replace(movement_map, inplace=True)\n",
    "    \n",
    "    features_cat_reencoded['WEALTH'] = features_cat_reencoded['CAMEO_INTL_2015']\n",
    "    features_cat_reencoded['LIFE_STAGE'] = features_cat_reencoded['CAMEO_INTL_2015']\n",
    "    wealth_map = {'11':1, '12':1, '13':1, '14':1, '15':1, '21':2, '22':2, '23':2, '24':2, '25':2,\n",
    "                  '31':3, '32':3, '33':3, '34':3, '35':3, '41':4, '42':4, '43':4, '44':4, '45':4,\n",
    "                  '51':5, '52':5, '53':5, '54':5, '55':5}\n",
    "    life_stage_map = {'11':1, '12':2, '13':3, '14':4, '15':5, '21':1, '22':2, '23':3, '24':4, '25':5,\n",
    "                      '31':1, '32':2, '33':3, '34':4, '35':5, '41':1, '42':2, '43':3, '44':4, '45':5,\n",
    "                      '51':1, '52':2, '53':3, '54':4, '55':5}\n",
    "    features_cat_reencoded['WEALTH'].replace(wealth_map, inplace=True)\n",
    "    features_cat_reencoded['LIFE_STAGE'].replace(life_stage_map, inplace=True)\n",
    "    \n",
    "    # copy the dataframe\n",
    "    final_data = pd.DataFrame(data = features_cat_reencoded)\n",
    "    \n",
    "    \n",
    "    # dropping mixed features\n",
    "    mixed_features = ['LP_LEBENSPHASE_FEIN', 'LP_LEBENSPHASE_GROB', 'PRAEGENDE_JUGENDJAHRE',\n",
    "                      'WOHNLAGE', 'CAMEO_INTL_2015', 'PLZ8_BAUMAX']\n",
    "    final_data.drop(mixed_features, axis = 1, inplace=True)\n",
    "    \n",
    "    # dropping the categorical feature 'CAMEO_DEU_2015' (due to having too many values)\n",
    "    final_data.drop('CAMEO_DEU_2015', axis = 1, inplace=True)\n",
    "    \n",
    "    \n",
    "\n",
    "    \n",
    "    # Return the cleaned dataframe.\n",
    "    return final_data\n",
    "    "
   ]
  },
  {
   "cell_type": "markdown",
   "metadata": {},
   "source": [
    "## Step 2: Feature Transformation\n",
    "\n",
    "### Step 2.1: Apply Feature Scaling\n",
    "\n",
    "Before we apply dimensionality reduction techniques to the data, we need to perform feature scaling so that the principal component vectors are not influenced by the natural differences in scale for features. Starting from this part of the project, you'll want to keep an eye on the [API reference page for sklearn](http://scikit-learn.org/stable/modules/classes.html) to help you navigate to all of the classes and functions that you'll need. In this substep, you'll need to check the following:\n",
    "\n",
    "- sklearn requires that data not have missing values in order for its estimators to work properly. So, before applying the scaler to your data, make sure that you've cleaned the DataFrame of the remaining missing values. This can be as simple as just removing all data points with missing data, or applying an [Imputer](http://scikit-learn.org/stable/modules/generated/sklearn.preprocessing.Imputer.html) to replace all missing values. You might also try a more complicated procedure where you temporarily remove missing values in order to compute the scaling parameters before re-introducing those missing values and applying imputation. Think about how much missing data you have and what possible effects each approach might have on your analysis, and justify your decision in the discussion section below.\n",
    "- For the actual scaling function, a [StandardScaler](http://scikit-learn.org/stable/modules/generated/sklearn.preprocessing.StandardScaler.html) instance is suggested, scaling each feature to mean 0 and standard deviation 1.\n",
    "- For these classes, you can make use of the `.fit_transform()` method to both fit a procedure to the data as well as apply the transformation to the data at the same time. Don't forget to keep the fit sklearn objects handy, since you'll be applying them to the customer demographics data towards the end of the project."
   ]
  },
  {
   "cell_type": "code",
   "execution_count": 40,
   "metadata": {},
   "outputs": [
    {
     "name": "stdout",
     "output_type": "stream",
     "text": [
      "Number of missing values in the clean dataset:  185269\n",
      "Number of columns with at least one missing value:  21\n",
      "Number of rows with at least one missing value:  96413\n"
     ]
    }
   ],
   "source": [
    "# If you've not yet cleaned the dataset of all NaN values, then investigate and\n",
    "# do that now.\n",
    "\n",
    "# total number of missing data in the cleaned dataset\n",
    "print('Number of missing values in the clean dataset: ', final_data.isnull().sum().sum())\n",
    "\n",
    "# number of columns that contain nans\n",
    "print('Number of columns with at least one missing value: ', final_data.isnull().any().sum())\n",
    "\n",
    "# number of rows that contain nans\n",
    "print('Number of rows with at least one missing value: ', final_data.isnull().any(axis=1).sum())"
   ]
  },
  {
   "cell_type": "code",
   "execution_count": 41,
   "metadata": {},
   "outputs": [
    {
     "data": {
      "text/plain": [
       "(623211, 149)"
      ]
     },
     "execution_count": 41,
     "metadata": {},
     "output_type": "execute_result"
    }
   ],
   "source": [
    "# deleting rows with at least one missing values\n",
    "clean_data = final_data.dropna(axis = 0)\n",
    "clean_data.shape"
   ]
  },
  {
   "cell_type": "code",
   "execution_count": 42,
   "metadata": {},
   "outputs": [
    {
     "data": {
      "text/plain": [
       "0"
      ]
     },
     "execution_count": 42,
     "metadata": {},
     "output_type": "execute_result"
    }
   ],
   "source": [
    "# check if any nans exist in the clean dataset\n",
    "clean_data.isnull().sum().sum()"
   ]
  },
  {
   "cell_type": "markdown",
   "metadata": {},
   "source": [
    "**It turned out that the column `'GEBAEUDETYP_5.0'` will not be in the customers processed data after cleanining it below. This causes the customers clean data to have one fewer column than the general population data (148 vs. 149). So, I decided to drop this column here before applying the PCA to make sure the PCA object have the same number of features. After all, this column is not important in the analysis**"
   ]
  },
  {
   "cell_type": "code",
   "execution_count": 43,
   "metadata": {
    "scrolled": true
   },
   "outputs": [
    {
     "name": "stderr",
     "output_type": "stream",
     "text": [
      "/opt/conda/lib/python3.6/site-packages/pandas/core/frame.py:3697: SettingWithCopyWarning: \n",
      "A value is trying to be set on a copy of a slice from a DataFrame\n",
      "\n",
      "See the caveats in the documentation: http://pandas.pydata.org/pandas-docs/stable/indexing.html#indexing-view-versus-copy\n",
      "  errors=errors)\n"
     ]
    }
   ],
   "source": [
    "clean_data.drop('GEBAEUDETYP_5.0', axis=1, inplace=True)"
   ]
  },
  {
   "cell_type": "code",
   "execution_count": 44,
   "metadata": {},
   "outputs": [],
   "source": [
    "# Apply feature scaling to the general population demographics data.\n",
    "\n",
    "\n",
    "# define a scaler\n",
    "scaler = StandardScaler()\n",
    "\n",
    "# scale the data\n",
    "scaled_data = scaler.fit_transform(clean_data)\n",
    "\n",
    "# create a dataframe for scaled data\n",
    "scaled_data_df = pd.DataFrame(scaled_data)\n",
    "scaled_data_df.columns = clean_data.columns\n"
   ]
  },
  {
   "cell_type": "markdown",
   "metadata": {},
   "source": [
    "### Discussion 2.1: Apply Feature Scaling\n",
    "\n",
    "(Double-click this cell and replace this text with your own text, reporting your decisions regarding feature scaling.)\n",
    "\n",
    "Here is what I did to scale the data:\n",
    "\n",
    "1. First I investigated the number of missing values in total; number of columns with missing values; and number of rows with missing values\n",
    "2. Since the number of columns containing missing values is relatively large, I decided not to remove the columns with missing values because some of the features could be important for the analysis\n",
    "3. I deleted all the rows with missing values bucause the dataset is sufficiently large even after eliminating these rows\n",
    "4. I used a standard scaler to scale the clean data\n",
    "5. I created a dataframe for the scaled data just in case I need it in the upcoming steps"
   ]
  },
  {
   "cell_type": "markdown",
   "metadata": {},
   "source": [
    "### Step 2.2: Perform Dimensionality Reduction\n",
    "\n",
    "On your scaled data, you are now ready to apply dimensionality reduction techniques.\n",
    "\n",
    "- Use sklearn's [PCA](http://scikit-learn.org/stable/modules/generated/sklearn.decomposition.PCA.html) class to apply principal component analysis on the data, thus finding the vectors of maximal variance in the data. To start, you should not set any parameters (so all components are computed) or set a number of components that is at least half the number of features (so there's enough features to see the general trend in variability).\n",
    "- Check out the ratio of variance explained by each principal component as well as the cumulative variance explained. Try plotting the cumulative or sequential values using matplotlib's [`plot()`](https://matplotlib.org/api/_as_gen/matplotlib.pyplot.plot.html) function. Based on what you find, select a value for the number of transformed features you'll retain for the clustering part of the project.\n",
    "- Once you've made a choice for the number of components to keep, make sure you re-fit a PCA instance to perform the decided-on transformation."
   ]
  },
  {
   "cell_type": "code",
   "execution_count": 45,
   "metadata": {},
   "outputs": [],
   "source": [
    "# define a function to do PCA\n",
    "\n",
    "def do_pca(data, n_components=None):\n",
    "    '''\n",
    "    Transforms data using PCA to create n_components, and provides back the results of the\n",
    "    transformation.\n",
    "    \n",
    "    INPUT:  data - the data you would like to transform (scaled data)\n",
    "            n_components - int - the number of principal components to create (default = None)   \n",
    "           \n",
    "    OUTPUT: pca - the pca object created after fitting the data\n",
    "            X_pca - the transformed X matrix with new number of components\n",
    "    '''\n",
    "    #X = StandardScaler().fit_transform(data)\n",
    "    pca = PCA(n_components)\n",
    "    X_pca = pca.fit_transform(data)\n",
    "    return pca, X_pca"
   ]
  },
  {
   "cell_type": "code",
   "execution_count": 46,
   "metadata": {},
   "outputs": [],
   "source": [
    "# Apply PCA to the data.\n",
    "pop_pca, pop_X_pca = do_pca(scaled_data_df)"
   ]
  },
  {
   "cell_type": "markdown",
   "metadata": {},
   "source": [
    "#### Investigating variance vs. number of components"
   ]
  },
  {
   "cell_type": "code",
   "execution_count": 47,
   "metadata": {},
   "outputs": [
    {
     "data": {
      "image/png": "[encoded data removed]",
      "text/plain": [
       "<matplotlib.figure.Figure at 0x7f9bcdd49be0>"
      ]
     },
     "metadata": {
      "needs_background": "light"
     },
     "output_type": "display_data"
    }
   ],
   "source": [
    "# Investigate the variance accounted for by each principal component.\n",
    "plt.bar(range(len(pop_pca.explained_variance_ratio_)), pop_pca.explained_variance_ratio_)\n",
    "plt.title(\"Variance explained by each component\")\n",
    "plt.xlabel(\"Principal Component\")\n",
    "plt.ylabel(\"Variance Explained\")\n",
    "plt.show()"
   ]
  },
  {
   "cell_type": "code",
   "execution_count": 48,
   "metadata": {
    "scrolled": true
   },
   "outputs": [
    {
     "data": {
      "image/png": "[encoded data removed]",
      "text/plain": [
       "<matplotlib.figure.Figure at 0x7f9bcdb29198>"
      ]
     },
     "metadata": {
      "needs_background": "light"
     },
     "output_type": "display_data"
    }
   ],
   "source": [
    "# investigating the total variance explained for each number of components\n",
    "plt.plot(range(len(pop_pca.explained_variance_ratio_)), np.cumsum(pop_pca.explained_variance_ratio_),\n",
    "         linestyle='--');\n",
    "plt.xlabel('Number of Components');\n",
    "plt.ylabel('Variance Explained');\n",
    "plt.title('Cumulative Variance Explained Vs. Number of Components');\n",
    "plt.show();"
   ]
  },
  {
   "cell_type": "code",
   "execution_count": 49,
   "metadata": {
    "scrolled": true
   },
   "outputs": [
    {
     "data": {
      "text/plain": [
       "55"
      ]
     },
     "execution_count": 49,
     "metadata": {},
     "output_type": "execute_result"
    }
   ],
   "source": [
    "# returning the position where cumulative variance exceeds 80%\n",
    "np.argmax(np.cumsum(pop_pca.explained_variance_ratio_)>0.8)"
   ]
  },
  {
   "cell_type": "markdown",
   "metadata": {},
   "source": [
    "#### 80% of variability in the data can be explained by only 56 components"
   ]
  },
  {
   "cell_type": "code",
   "execution_count": 50,
   "metadata": {},
   "outputs": [],
   "source": [
    "# Re-apply PCA to the data while selecting for number of components to retain.\n",
    "pop_pca_56, pop_X_pca_56 = do_pca(scaled_data_df, 56)"
   ]
  },
  {
   "cell_type": "markdown",
   "metadata": {},
   "source": [
    "### Discussion 2.2: Perform Dimensionality Reduction\n",
    "\n",
    "(Double-click this cell and replace this text with your own text, reporting your findings and decisions regarding dimensionality reduction. How many principal components / transformed features are you retaining for the next step of the analysis?)\n",
    "\n",
    "Here is what I did:\n",
    "\n",
    "1. I did a PCA analysis on the full dataset (140+ components) to see trends in variability among the features\n",
    "2. I found that 80% of the variability are explained by only 56 components (only 38% of the data)\n",
    "3. I re-did PCA with a number of components = 56"
   ]
  },
  {
   "cell_type": "markdown",
   "metadata": {},
   "source": [
    "### Step 2.3: Interpret Principal Components\n",
    "\n",
    "Now that we have our transformed principal components, it's a nice idea to check out the weight of each variable on the first few components to see if they can be interpreted in some fashion.\n",
    "\n",
    "As a reminder, each principal component is a unit vector that points in the direction of highest variance (after accounting for the variance captured by earlier principal components). The further a weight is from zero, the more the principal component is in the direction of the corresponding feature. If two features have large weights of the same sign (both positive or both negative), then increases in one tend expect to be associated with increases in the other. To contrast, features with different signs can be expected to show a negative correlation: increases in one variable should result in a decrease in the other.\n",
    "\n",
    "- To investigate the features, you should map each weight to their corresponding feature name, then sort the features according to weight. The most interesting features for each principal component, then, will be those at the beginning and end of the sorted list. Use the data dictionary document to help you understand these most prominent features, their relationships, and what a positive or negative value on the principal component might indicate.\n",
    "- You should investigate and interpret feature associations from the first three principal components in this substep. To help facilitate this, you should write a function that you can call at any time to print the sorted list of feature weights, for the *i*-th principal component. This might come in handy in the next step of the project, when you interpret the tendencies of the discovered clusters."
   ]
  },
  {
   "cell_type": "code",
   "execution_count": 51,
   "metadata": {},
   "outputs": [],
   "source": [
    "def feature_weights(pca, i):\n",
    "    '''\n",
    "    Returns the weights of all features for a given component i\n",
    "    Inputs: 1- pca: PCA object\n",
    "            2- i: i'th component \n",
    "    Output: a pandas series containing the weights in descending order\n",
    "    '''\n",
    "    df = pd.DataFrame(pca.components_, columns=list(scaled_data_df.columns))\n",
    "    weights = df.iloc[i].sort_values(ascending=False)\n",
    "    return weights"
   ]
  },
  {
   "cell_type": "code",
   "execution_count": 52,
   "metadata": {},
   "outputs": [
    {
     "name": "stdout",
     "output_type": "stream",
     "text": [
      "LP_STATUS_GROB_1.0      0.194619\n",
      "HH_EINKOMMEN_SCORE      0.181201\n",
      "PLZ8_ANTG3              0.175457\n",
      "WEALTH                  0.175064\n",
      "PLZ8_ANTG4              0.170351\n",
      "ORTSGR_KLS9             0.147327\n",
      "EWDICHTE                0.144613\n",
      "FINANZ_SPARER           0.140605\n",
      "FINANZ_HAUSBAUER        0.136326\n",
      "KBA05_ANTG4             0.124700\n",
      "FINANZTYP_1             0.123869\n",
      "LP_STATUS_FEIN_1.0      0.121898\n",
      "LP_STATUS_FEIN_2.0      0.121756\n",
      "PLZ8_ANTG2              0.116033\n",
      "KBA05_ANTG3             0.115117\n",
      "MOVEMENT                0.113099\n",
      "ANZ_HAUSHALTE_AKTIV     0.112694\n",
      "ARBEIT                  0.111408\n",
      "CAMEO_DEUG_2015_9       0.108055\n",
      "SEMIO_PFLICHT           0.106597\n",
      "DECADE                  0.104258\n",
      "SEMIO_REL               0.100419\n",
      "RELAT_AB                0.100125\n",
      "SEMIO_TRADV             0.095132\n",
      "SEMIO_RAT               0.091196\n",
      "ZABEOTYP_5              0.088844\n",
      "CAMEO_DEUG_2015_8       0.086577\n",
      "LP_FAMILIE_GROB_1.0     0.086082\n",
      "LP_FAMILIE_FEIN_1.0     0.086082\n",
      "FINANZ_ANLEGER          0.078618\n",
      "                          ...   \n",
      "KBA13_ANZAHL_PKW       -0.062465\n",
      "WOHNDAUER_2008         -0.064304\n",
      "LP_FAMILIE_GROB_5.0    -0.066411\n",
      "NATIONALITAET_KZ_1.0   -0.067481\n",
      "CAMEO_DEUG_2015_4      -0.069559\n",
      "SEMIO_ERL              -0.076306\n",
      "CAMEO_DEUG_2015_2      -0.082671\n",
      "ANZ_PERSONEN           -0.084257\n",
      "SEMIO_LUST             -0.086600\n",
      "GEBAEUDETYP_1.0        -0.087597\n",
      "FINANZTYP_2            -0.090031\n",
      "BALLRAUM               -0.090806\n",
      "ZABEOTYP_1             -0.091042\n",
      "GEBAEUDETYP_RASTER     -0.093072\n",
      "LP_STATUS_FEIN_9.0     -0.104003\n",
      "LP_STATUS_GROB_4.0     -0.104545\n",
      "LIFE_STAGE             -0.110825\n",
      "FINANZ_VORSORGER       -0.112522\n",
      "GREEN_AVANTGARDE       -0.113099\n",
      "ALTERSKATEGORIE_GROB   -0.117573\n",
      "INNENSTADT             -0.122112\n",
      "LP_STATUS_GROB_5.0     -0.124743\n",
      "LP_STATUS_FEIN_10.0    -0.124743\n",
      "KONSUMNAEHE            -0.128256\n",
      "PLZ8_GBZ               -0.132601\n",
      "PLZ8_ANTG1             -0.177929\n",
      "KBA05_GBZ              -0.178784\n",
      "KBA05_ANTG1            -0.190525\n",
      "MOBI_REGIO             -0.201794\n",
      "FINANZ_MINIMALIST      -0.201860\n",
      "Name: 0, Length: 148, dtype: float64\n"
     ]
    }
   ],
   "source": [
    "# Map weights for the first principal component to corresponding feature names\n",
    "# and then print the linked values, sorted by weight.\n",
    "# HINT: Try defining a function here or in a new cell that you can reuse in the\n",
    "# other cells.\n",
    "print(feature_weights(pop_pca_56, 0))"
   ]
  },
  {
   "cell_type": "code",
   "execution_count": 53,
   "metadata": {},
   "outputs": [
    {
     "name": "stdout",
     "output_type": "stream",
     "text": [
      "ALTERSKATEGORIE_GROB     0.222234\n",
      "FINANZ_VORSORGER         0.200624\n",
      "ZABEOTYP_3               0.198478\n",
      "SEMIO_ERL                0.180481\n",
      "RETOURTYP_BK_S           0.155593\n",
      "SEMIO_LUST               0.152518\n",
      "W_KEIT_KIND_HH           0.131699\n",
      "LP_STATUS_FEIN_1.0       0.114279\n",
      "FINANZ_HAUSBAUER         0.105883\n",
      "CJT_GESAMTTYP_2.0        0.097879\n",
      "PLZ8_ANTG3               0.092071\n",
      "FINANZTYP_5              0.091429\n",
      "PLZ8_ANTG4               0.087920\n",
      "SEMIO_KRIT               0.085980\n",
      "ORTSGR_KLS9              0.083770\n",
      "EWDICHTE                 0.083676\n",
      "WEALTH                   0.079175\n",
      "LP_FAMILIE_GROB_1.0      0.077194\n",
      "LP_FAMILIE_FEIN_1.0      0.077194\n",
      "FINANZTYP_2              0.073164\n",
      "SHOPPER_TYP_3.0          0.071167\n",
      "KBA05_ANTG4              0.066835\n",
      "CJT_GESAMTTYP_1.0        0.066483\n",
      "SEMIO_KAEM               0.066443\n",
      "ARBEIT                   0.065778\n",
      "FINANZTYP_6              0.064010\n",
      "PLZ8_ANTG2               0.060813\n",
      "ANZ_HAUSHALTE_AKTIV      0.060571\n",
      "RELAT_AB                 0.059764\n",
      "HH_EINKOMMEN_SCORE       0.058459\n",
      "                           ...   \n",
      "KONSUMNAEHE             -0.065359\n",
      "INNENSTADT              -0.068663\n",
      "LP_FAMILIE_GROB_4.0     -0.070928\n",
      "GFK_URLAUBERTYP_9.0     -0.071462\n",
      "PLZ8_GBZ                -0.072049\n",
      "ZABEOTYP_5              -0.076530\n",
      "ZABEOTYP_1              -0.078327\n",
      "FINANZTYP_3             -0.078910\n",
      "ANZ_PERSONEN            -0.080402\n",
      "LP_STATUS_FEIN_2.0      -0.081192\n",
      "LP_STATUS_FEIN_5.0      -0.082303\n",
      "KBA05_ANTG1             -0.087183\n",
      "KBA05_GBZ               -0.089840\n",
      "FINANZTYP_4             -0.089934\n",
      "PLZ8_ANTG1              -0.092247\n",
      "MOBI_REGIO              -0.093804\n",
      "ZABEOTYP_4              -0.104930\n",
      "FINANZTYP_1             -0.115227\n",
      "SEMIO_MAT               -0.117665\n",
      "SEMIO_FAM               -0.127202\n",
      "SEMIO_RAT               -0.157948\n",
      "SEMIO_KULT              -0.163479\n",
      "ONLINE_AFFINITAET       -0.165999\n",
      "FINANZ_ANLEGER          -0.189811\n",
      "SEMIO_TRADV             -0.199447\n",
      "SEMIO_PFLICHT           -0.202464\n",
      "FINANZ_UNAUFFAELLIGER   -0.205059\n",
      "FINANZ_SPARER           -0.207188\n",
      "SEMIO_REL               -0.212170\n",
      "DECADE                  -0.224818\n",
      "Name: 1, Length: 148, dtype: float64\n"
     ]
    }
   ],
   "source": [
    "# Map weights for the second principal component to corresponding feature names\n",
    "# and then print the linked values, sorted by weight.\n",
    "print(feature_weights(pop_pca_56, 1))"
   ]
  },
  {
   "cell_type": "code",
   "execution_count": 54,
   "metadata": {},
   "outputs": [
    {
     "name": "stdout",
     "output_type": "stream",
     "text": [
      "SEMIO_VERT               0.321347\n",
      "SEMIO_FAM                0.259270\n",
      "SEMIO_SOZ                0.256368\n",
      "SEMIO_KULT               0.244780\n",
      "FINANZTYP_5              0.139250\n",
      "FINANZ_MINIMALIST        0.127894\n",
      "SHOPPER_TYP_0.0          0.126833\n",
      "SEMIO_REL                0.117140\n",
      "ZABEOTYP_1               0.115469\n",
      "RETOURTYP_BK_S           0.085617\n",
      "SEMIO_MAT                0.080038\n",
      "W_KEIT_KIND_HH           0.075367\n",
      "GREEN_AVANTGARDE         0.073732\n",
      "EWDICHTE                 0.067047\n",
      "ORTSGR_KLS9              0.066022\n",
      "ZABEOTYP_6               0.052544\n",
      "PLZ8_ANTG4               0.051160\n",
      "PLZ8_ANTG3               0.050817\n",
      "LP_STATUS_FEIN_10.0      0.050120\n",
      "LP_STATUS_GROB_5.0       0.050120\n",
      "FINANZ_VORSORGER         0.049799\n",
      "LP_STATUS_FEIN_1.0       0.046326\n",
      "LP_STATUS_FEIN_3.0       0.045953\n",
      "SHOPPER_TYP_1.0          0.044701\n",
      "PLZ8_ANTG2               0.036938\n",
      "RELAT_AB                 0.035610\n",
      "GEBAEUDETYP_3.0          0.033178\n",
      "SEMIO_LUST               0.033152\n",
      "ARBEIT                   0.032492\n",
      "LP_STATUS_GROB_3.0       0.032415\n",
      "                           ...   \n",
      "LP_FAMILIE_FEIN_5.0     -0.030685\n",
      "ZABEOTYP_3              -0.032775\n",
      "PLZ8_GBZ                -0.034689\n",
      "KKK                     -0.038940\n",
      "HH_EINKOMMEN_SCORE      -0.039828\n",
      "GEBAEUDETYP_RASTER      -0.042182\n",
      "LP_FAMILIE_FEIN_4.0     -0.042618\n",
      "FINANZ_UNAUFFAELLIGER   -0.042990\n",
      "PLZ8_ANTG1              -0.048111\n",
      "SHOPPER_TYP_3.0         -0.049767\n",
      "KONSUMNAEHE             -0.050708\n",
      "BALLRAUM                -0.052464\n",
      "FINANZ_SPARER           -0.054389\n",
      "DECADE                  -0.055695\n",
      "INNENSTADT              -0.058660\n",
      "LP_FAMILIE_GROB_3.0     -0.059220\n",
      "FINANZ_HAUSBAUER        -0.060324\n",
      "ZABEOTYP_4              -0.066238\n",
      "MOVEMENT                -0.073732\n",
      "LP_STATUS_FEIN_4.0      -0.074014\n",
      "LP_STATUS_FEIN_2.0      -0.081496\n",
      "FINANZTYP_1             -0.097979\n",
      "SHOPPER_TYP_2.0         -0.107218\n",
      "FINANZ_ANLEGER          -0.155863\n",
      "SEMIO_RAT               -0.159117\n",
      "SEMIO_ERL               -0.199476\n",
      "SEMIO_KRIT              -0.260445\n",
      "SEMIO_DOM               -0.282327\n",
      "SEMIO_KAEM              -0.314417\n",
      "ANREDE_KZ               -0.343503\n",
      "Name: 2, Length: 148, dtype: float64\n"
     ]
    }
   ],
   "source": [
    "# Map weights for the third principal component to corresponding feature names\n",
    "# and then print the linked values, sorted by weight.\n",
    "print(feature_weights(pop_pca_56, 2))"
   ]
  },
  {
   "cell_type": "markdown",
   "metadata": {},
   "source": [
    "### Discussion 2.3: Interpret Principal Components\n",
    "\n",
    "(Double-click this cell and replace this text with your own text, reporting your observations from detailed investigation of the first few principal components generated. Can we interpret positive and negative values from them in a meaningful way?)\n",
    "\n",
    "1. Component 1: top 3 positive values are for: LP_STATUS_GROB_1.0 with 0.19 (Social status), HH_EINKOMMEN_SCORE with 0.18 (Household income), and PLZ8_ANTG3 with 0.17 (Number of 6-10 family houses). Top 3 -ve values are for: FINANZ_MINIMALIST with -0.20, MOBI_REGIO with -0.20, and KBA05_ANTG1 with -0.19. We can say that this component has to do with peronal- and household level features such as income.\n",
    "\n",
    "2. Component 2: top 3 positive values are for: ALTERSKATEGORIE_GROB with 0.22, FINANZ_VORSORGER with 0.20, ZABEOTYP_3 wtih 0.19. Top 3 negative values are for: FINANZ_SPARER with -0.20, SEMIO_REL with -0.212170, DECADE with -0.22.\n",
    "\n",
    "3. Component 3: top 3 positive values are for: SEMIO_VERT with 0.32, SEMIO_FAM with 0.25, and SEMIO_SOZ with 0.25. Top 3 negative values are for: SEMIO_DOM with -0.28, SEMIO_KAEM with -0.31, and ANREDE_KZ with -0.34.\n"
   ]
  },
  {
   "cell_type": "markdown",
   "metadata": {},
   "source": [
    "## Step 3: Clustering\n",
    "\n",
    "### Step 3.1: Apply Clustering to General Population\n",
    "\n",
    "You've assessed and cleaned the demographics data, then scaled and transformed them. Now, it's time to see how the data clusters in the principal components space. In this substep, you will apply k-means clustering to the dataset and use the average within-cluster distances from each point to their assigned cluster's centroid to decide on a number of clusters to keep.\n",
    "\n",
    "- Use sklearn's [KMeans](http://scikit-learn.org/stable/modules/generated/sklearn.cluster.KMeans.html#sklearn.cluster.KMeans) class to perform k-means clustering on the PCA-transformed data.\n",
    "- Then, compute the average difference from each point to its assigned cluster's center. **Hint**: The KMeans object's `.score()` method might be useful here, but note that in sklearn, scores tend to be defined so that larger is better. Try applying it to a small, toy dataset, or use an internet search to help your understanding.\n",
    "- Perform the above two steps for a number of different cluster counts. You can then see how the average distance decreases with an increasing number of clusters. However, each additional cluster provides a smaller net benefit. Use this fact to select a final number of clusters in which to group the data. **Warning**: because of the large size of the dataset, it can take a long time for the algorithm to resolve. The more clusters to fit, the longer the algorithm will take. You should test for cluster counts through at least 10 clusters to get the full picture, but you shouldn't need to test for a number of clusters above about 30.\n",
    "- Once you've selected a final number of clusters to use, re-fit a KMeans instance to perform the clustering operation. Make sure that you also obtain the cluster assignments for the general demographics data, since you'll be using them in the final Step 3.3."
   ]
  },
  {
   "cell_type": "code",
   "execution_count": 55,
   "metadata": {},
   "outputs": [],
   "source": [
    "# Over a number of different cluster counts...\n",
    "\n",
    "\n",
    "    # run k-means clustering on the data and...\n",
    "    \n",
    "    \n",
    "    # compute the average within-cluster distances.\n",
    "    \n",
    "def get_kmeans_score(data, center):\n",
    "    '''\n",
    "    returns the kmeans score regarding SSE for points to centers\n",
    "    INPUT:\n",
    "        data - the dataset you want to fit kmeans to\n",
    "        center - the number of centers you want (the k value)\n",
    "    OUTPUT:\n",
    "        score - the SSE score for the kmeans model fit to the data\n",
    "    '''\n",
    "    #instantiate kmeans\n",
    "    kmeans = KMeans(n_clusters=center)\n",
    "\n",
    "    # Then fit the model to your data using the fit method\n",
    "    model = kmeans.fit(data)\n",
    "    \n",
    "    # Obtain a score related to the model fit\n",
    "    score = np.abs(model.score(data))\n",
    "    \n",
    "    return score "
   ]
  },
  {
   "cell_type": "markdown",
   "metadata": {},
   "source": [
    "#### Note: I ran the for loop in the cell below once and then extracted the values from the `scores` list and saved them so that I don't need to run the loop again every time I come back to the project because the loop takes a long time to run."
   ]
  },
  {
   "cell_type": "code",
   "execution_count": 56,
   "metadata": {},
   "outputs": [
    {
     "data": {
      "image/png": "[encoded data removed]",
      "text/plain": [
       "<matplotlib.figure.Figure at 0x7f9bce3f39e8>"
      ]
     },
     "metadata": {
      "needs_background": "light"
     },
     "output_type": "display_data"
    }
   ],
   "source": [
    "# Investigate the change in within-cluster distance across number of clusters.\n",
    "# HINT: Use matplotlib's plot function to visualize this relationship.\n",
    "\n",
    "scores = [72041961.570956007, 64894727.399251655, 61133786.866023369, 58942826.178062454,\n",
    "          57084853.22931131, 55804796.042360209, 54962580.054987855, 53802373.903760076,\n",
    "          52749219.559744269, 52065610.40937008, 51454190.258109137, 50827769.26107464,\n",
    "          50477720.724926762, 49764226.396840371, 49245104.595430978, 48517830.661698155,\n",
    "          48397470.061569944, 47868609.131439149, 47672736.649909973, 47218803.987558521]\n",
    "\n",
    "centers = list(range(1, 21))\n",
    "'''\n",
    "for center in centers:\n",
    "    scores.append(get_kmeans_score(pop_X_pca_56, center))\n",
    "'''\n",
    "\n",
    "plt.plot(centers, scores, linestyle='--', marker='o', color='b');\n",
    "plt.xlabel('K');\n",
    "plt.ylabel('SSE');\n",
    "plt.title('SSE vs. K');"
   ]
  },
  {
   "cell_type": "code",
   "execution_count": 57,
   "metadata": {},
   "outputs": [],
   "source": [
    "# Re-fit the k-means model with the selected number of clusters and obtain\n",
    "# cluster predictions for the general population demographics data.\n",
    "kmeans_16 = KMeans(n_clusters=16)\n",
    "model_16 = kmeans_16.fit(pop_X_pca_56)\n",
    "pop_preds = model_16.predict(pop_X_pca_56)\n"
   ]
  },
  {
   "cell_type": "markdown",
   "metadata": {},
   "source": [
    "### Discussion 3.1: Apply Clustering to General Population\n",
    "\n",
    "(Double-click this cell and replace this text with your own text, reporting your findings and decisions regarding clustering. Into how many clusters have you decided to segment the population?)\n",
    "\n",
    "When k, number of clusters, is 16, the reduction in SSE is small. So, k = 16 seems to be appropriate. Therefore, I chose the number of clusters to be 16."
   ]
  },
  {
   "cell_type": "markdown",
   "metadata": {},
   "source": [
    "### Step 3.2: Apply All Steps to the Customer Data\n",
    "\n",
    "Now that you have clusters and cluster centers for the general population, it's time to see how the customer data maps on to those clusters. Take care to not confuse this for re-fitting all of the models to the customer data. Instead, you're going to use the fits from the general population to clean, transform, and cluster the customer data. In the last step of the project, you will interpret how the general population fits apply to the customer data.\n",
    "\n",
    "- Don't forget when loading in the customers data, that it is semicolon (`;`) delimited.\n",
    "- Apply the same feature wrangling, selection, and engineering steps to the customer demographics using the `clean_data()` function you created earlier. (You can assume that the customer demographics data has similar meaning behind missing data patterns as the general demographics data.)\n",
    "- Use the sklearn objects from the general demographics data, and apply their transformations to the customers data. That is, you should not be using a `.fit()` or `.fit_transform()` method to re-fit the old objects, nor should you be creating new sklearn objects! Carry the data through the feature scaling, PCA, and clustering steps, obtaining cluster assignments for all of the data in the customer demographics data."
   ]
  },
  {
   "cell_type": "code",
   "execution_count": 58,
   "metadata": {},
   "outputs": [],
   "source": [
    "# Load in the customer demographics data.\n",
    "customers = pd.read_csv('Udacity_CUSTOMERS_Subset.csv', delimiter=';')"
   ]
  },
  {
   "cell_type": "code",
   "execution_count": 59,
   "metadata": {},
   "outputs": [],
   "source": [
    "# Apply preprocessing, feature transformation, and clustering from the general\n",
    "# demographics onto the customer data, obtaining cluster predictions for the\n",
    "# customer demographics data.\n",
    "customers_final = cleandata(customers)"
   ]
  },
  {
   "cell_type": "code",
   "execution_count": 60,
   "metadata": {},
   "outputs": [],
   "source": [
    "# dropping rows with at least one missing value\n",
    "customers_clean = customers_final.dropna(axis = 0)"
   ]
  },
  {
   "cell_type": "code",
   "execution_count": 61,
   "metadata": {},
   "outputs": [],
   "source": [
    "# Apply feature scaling to the customers demographics data.\n",
    "\n",
    "# scale the data\n",
    "customers_scaled_data = scaler.fit_transform(customers_clean)\n",
    "\n",
    "# create a dataframe for scaled data\n",
    "costomers_scaled_data_df = pd.DataFrame(customers_scaled_data)\n",
    "costomers_scaled_data_df.columns = customers_clean.columns"
   ]
  },
  {
   "cell_type": "code",
   "execution_count": 62,
   "metadata": {
    "scrolled": false
   },
   "outputs": [],
   "source": [
    "# applying PCA transformation to customers scaled data\n",
    "customers_X_pca_56 = pop_pca_56.transform(costomers_scaled_data_df)"
   ]
  },
  {
   "cell_type": "code",
   "execution_count": 63,
   "metadata": {},
   "outputs": [],
   "source": [
    "customers_preds = model_16.predict(customers_X_pca_56)"
   ]
  },
  {
   "cell_type": "markdown",
   "metadata": {},
   "source": [
    "### Step 3.3: Compare Customer Data to Demographics Data\n",
    "\n",
    "At this point, you have clustered data based on demographics of the general population of Germany, and seen how the customer data for a mail-order sales company maps onto those demographic clusters. In this final substep, you will compare the two cluster distributions to see where the strongest customer base for the company is.\n",
    "\n",
    "Consider the proportion of persons in each cluster for the general population, and the proportions for the customers. If we think the company's customer base to be universal, then the cluster assignment proportions should be fairly similar between the two. If there are only particular segments of the population that are interested in the company's products, then we should see a mismatch from one to the other. If there is a higher proportion of persons in a cluster for the customer data compared to the general population (e.g. 5% of persons are assigned to a cluster for the general population, but 15% of the customer data is closest to that cluster's centroid) then that suggests the people in that cluster to be a target audience for the company. On the other hand, the proportion of the data in a cluster being larger in the general population than the customer data (e.g. only 2% of customers closest to a population centroid that captures 6% of the data) suggests that group of persons to be outside of the target demographics.\n",
    "\n",
    "Take a look at the following points in this step:\n",
    "\n",
    "- Compute the proportion of data points in each cluster for the general population and the customer data. Visualizations will be useful here: both for the individual dataset proportions, but also to visualize the ratios in cluster representation between groups. Seaborn's [`countplot()`](https://seaborn.pydata.org/generated/seaborn.countplot.html) or [`barplot()`](https://seaborn.pydata.org/generated/seaborn.barplot.html) function could be handy.\n",
    "  - Recall the analysis you performed in step 1.1.3 of the project, where you separated out certain data points from the dataset if they had more than a specified threshold of missing values. If you found that this group was qualitatively different from the main bulk of the data, you should treat this as an additional data cluster in this analysis. Make sure that you account for the number of data points in this subset, for both the general population and customer datasets, when making your computations!\n",
    "- Which cluster or clusters are overrepresented in the customer dataset compared to the general population? Select at least one such cluster and infer what kind of people might be represented by that cluster. Use the principal component interpretations from step 2.3 or look at additional components to help you make this inference. Alternatively, you can use the `.inverse_transform()` method of the PCA and StandardScaler objects to transform centroids back to the original data space and interpret the retrieved values directly.\n",
    "- Perform a similar investigation for the underrepresented clusters. Which cluster or clusters are underrepresented in the customer dataset compared to the general population, and what kinds of people are typified by these clusters?"
   ]
  },
  {
   "cell_type": "code",
   "execution_count": 64,
   "metadata": {},
   "outputs": [
    {
     "data": {
      "image/png": "[encoded data removed]",
      "text/plain": [
       "<matplotlib.figure.Figure at 0x7f9bcda43240>"
      ]
     },
     "metadata": {
      "needs_background": "light"
     },
     "output_type": "display_data"
    }
   ],
   "source": [
    "# Compare the proportion of data in each cluster for the customer data to the\n",
    "# proportion of data in each cluster for the general population.\n",
    "\n",
    "figure, axs = plt.subplots(nrows=1, ncols=2, figsize = (10,5))\n",
    "figure.subplots_adjust(hspace = 1, wspace=.3)\n",
    "\n",
    "sb.countplot(customers_preds, ax=axs[0]);\n",
    "axs[0].set_title('Customer Clusters');\n",
    "sb.countplot(pop_preds, ax=axs[1]);\n",
    "axs[1].set_title('General Population Clusters');"
   ]
  },
  {
   "cell_type": "code",
   "execution_count": 71,
   "metadata": {},
   "outputs": [],
   "source": [
    "# What kinds of people are part of a cluster that is overrepresented in the\n",
    "# customer data compared to the general population?\n",
    "\n",
    "cluster_1 = scaler.inverse_transform(pop_pca_56.inverse_transform(model_16.cluster_centers_[1]))"
   ]
  },
  {
   "cell_type": "code",
   "execution_count": 72,
   "metadata": {},
   "outputs": [
    {
     "data": {
      "text/plain": [
       "ALTERSKATEGORIE_GROB     3.776678\n",
       "ANREDE_KZ                0.888984\n",
       "FINANZ_MINIMALIST        5.552867\n",
       "FINANZ_SPARER            0.953701\n",
       "FINANZ_VORSORGER         4.946439\n",
       "FINANZ_ANLEGER           0.841032\n",
       "FINANZ_UNAUFFAELLIGER    1.611579\n",
       "FINANZ_HAUSBAUER         1.517832\n",
       "GREEN_AVANTGARDE         1.452225\n",
       "HEALTH_TYP               1.780629\n",
       "RETOURTYP_BK_S           4.180173\n",
       "SEMIO_SOZ                5.320446\n",
       "SEMIO_FAM                4.629855\n",
       "SEMIO_REL                3.233852\n",
       "SEMIO_MAT                3.453508\n",
       "SEMIO_VERT               6.969988\n",
       "SEMIO_LUST               6.215906\n",
       "SEMIO_ERL                4.225468\n",
       "SEMIO_KULT               4.788300\n",
       "SEMIO_RAT                1.968473\n",
       "SEMIO_KRIT               2.378260\n",
       "SEMIO_DOM                2.854359\n",
       "SEMIO_KAEM               1.877380\n",
       "SEMIO_PFLICHT            2.434578\n",
       "SEMIO_TRADV              2.539818\n",
       "SOHO_KZ                 -0.004172\n",
       "VERS_TYP                 1.452562\n",
       "ANZ_PERSONEN             3.032760\n",
       "ANZ_TITEL                0.002538\n",
       "HH_EINKOMMEN_SCORE       0.867043\n",
       "                           ...   \n",
       "GFK_URLAUBERTYP_2.0      0.020195\n",
       "GFK_URLAUBERTYP_3.0      0.134562\n",
       "GFK_URLAUBERTYP_4.0      0.124851\n",
       "GFK_URLAUBERTYP_5.0      0.175134\n",
       "GFK_URLAUBERTYP_6.0      0.066341\n",
       "GFK_URLAUBERTYP_7.0      0.168001\n",
       "GFK_URLAUBERTYP_8.0      0.159954\n",
       "GFK_URLAUBERTYP_9.0      0.007663\n",
       "GFK_URLAUBERTYP_10.0     0.193147\n",
       "GFK_URLAUBERTYP_11.0     0.018460\n",
       "GFK_URLAUBERTYP_12.0    -0.027083\n",
       "SHOPPER_TYP_0.0          0.422113\n",
       "SHOPPER_TYP_1.0          0.256638\n",
       "SHOPPER_TYP_2.0          0.031675\n",
       "SHOPPER_TYP_3.0          0.333871\n",
       "GEBAEUDETYP_1.0          0.906406\n",
       "GEBAEUDETYP_2.0          0.000000\n",
       "GEBAEUDETYP_3.0          0.004394\n",
       "GEBAEUDETYP_4.0          0.000000\n",
       "GEBAEUDETYP_6.0          0.000000\n",
       "GEBAEUDETYP_8.0          0.100758\n",
       "LP_STATUS_GROB_1.0      -0.120186\n",
       "LP_STATUS_GROB_2.0      -0.036699\n",
       "LP_STATUS_GROB_3.0       0.054042\n",
       "LP_STATUS_GROB_4.0       0.025194\n",
       "LP_STATUS_GROB_5.0       1.480384\n",
       "DECADE                   2.336219\n",
       "MOVEMENT                -0.452225\n",
       "WEALTH                   1.425098\n",
       "LIFE_STAGE               4.023704\n",
       "Name: over_represented, Length: 148, dtype: float64"
      ]
     },
     "execution_count": 72,
     "metadata": {},
     "output_type": "execute_result"
    }
   ],
   "source": [
    "over_represented = pd.Series(data = cluster_1, index=customers_final.columns, name='over_represented')\n",
    "over_represented"
   ]
  },
  {
   "cell_type": "code",
   "execution_count": 73,
   "metadata": {},
   "outputs": [],
   "source": [
    "# What kinds of people are part of a cluster that is underrepresented in the\n",
    "# customer data compared to the general population?\n",
    "cluster_3 = scaler.inverse_transform(pop_pca_56.inverse_transform(model_16.cluster_centers_[3]))"
   ]
  },
  {
   "cell_type": "code",
   "execution_count": 74,
   "metadata": {},
   "outputs": [
    {
     "data": {
      "text/plain": [
       "ALTERSKATEGORIE_GROB     2.711231\n",
       "ANREDE_KZ                1.805390\n",
       "FINANZ_MINIMALIST        2.823811\n",
       "FINANZ_SPARER            2.330870\n",
       "FINANZ_VORSORGER         3.796456\n",
       "FINANZ_ANLEGER           2.531238\n",
       "FINANZ_UNAUFFAELLIGER    2.568772\n",
       "FINANZ_HAUSBAUER         3.907097\n",
       "GREEN_AVANTGARDE         0.295582\n",
       "HEALTH_TYP               1.931222\n",
       "RETOURTYP_BK_S           3.064659\n",
       "SEMIO_SOZ                3.620123\n",
       "SEMIO_FAM                3.664971\n",
       "SEMIO_REL                4.197257\n",
       "SEMIO_MAT                4.501981\n",
       "SEMIO_VERT               3.302022\n",
       "SEMIO_LUST               4.338335\n",
       "SEMIO_ERL                4.407493\n",
       "SEMIO_KULT               3.933706\n",
       "SEMIO_RAT                4.788881\n",
       "SEMIO_KRIT               4.828664\n",
       "SEMIO_DOM                5.478841\n",
       "SEMIO_KAEM               5.448318\n",
       "SEMIO_PFLICHT            4.483624\n",
       "SEMIO_TRADV              4.535813\n",
       "SOHO_KZ                  0.004516\n",
       "VERS_TYP                 1.405967\n",
       "ANZ_PERSONEN             2.055905\n",
       "ANZ_TITEL                0.009901\n",
       "HH_EINKOMMEN_SCORE       4.562629\n",
       "                           ...   \n",
       "GFK_URLAUBERTYP_2.0      0.017328\n",
       "GFK_URLAUBERTYP_3.0      0.055672\n",
       "GFK_URLAUBERTYP_4.0      0.088658\n",
       "GFK_URLAUBERTYP_5.0      0.059479\n",
       "GFK_URLAUBERTYP_6.0      0.011989\n",
       "GFK_URLAUBERTYP_7.0      0.049404\n",
       "GFK_URLAUBERTYP_8.0      0.112329\n",
       "GFK_URLAUBERTYP_9.0      0.043478\n",
       "GFK_URLAUBERTYP_10.0     0.169287\n",
       "GFK_URLAUBERTYP_11.0     0.079379\n",
       "GFK_URLAUBERTYP_12.0     0.123630\n",
       "SHOPPER_TYP_0.0          0.127552\n",
       "SHOPPER_TYP_1.0          0.161730\n",
       "SHOPPER_TYP_2.0          0.380190\n",
       "SHOPPER_TYP_3.0          0.269368\n",
       "GEBAEUDETYP_1.0          0.510214\n",
       "GEBAEUDETYP_2.0          0.000000\n",
       "GEBAEUDETYP_3.0          0.256745\n",
       "GEBAEUDETYP_4.0          0.000000\n",
       "GEBAEUDETYP_6.0          0.000000\n",
       "GEBAEUDETYP_8.0          0.224438\n",
       "LP_STATUS_GROB_1.0       0.518737\n",
       "LP_STATUS_GROB_2.0      -0.031957\n",
       "LP_STATUS_GROB_3.0       0.062632\n",
       "LP_STATUS_GROB_4.0       0.035367\n",
       "LP_STATUS_GROB_5.0       0.192028\n",
       "DECADE                   4.109456\n",
       "MOVEMENT                 0.704418\n",
       "WEALTH                   3.724830\n",
       "LIFE_STAGE               2.577960\n",
       "Name: under_represented, Length: 148, dtype: float64"
      ]
     },
     "execution_count": 74,
     "metadata": {},
     "output_type": "execute_result"
    }
   ],
   "source": [
    "under_represented = pd.Series(data = cluster_3, index=customers_final.columns, name='under_represented')\n",
    "under_represented"
   ]
  },
  {
   "cell_type": "code",
   "execution_count": 75,
   "metadata": {},
   "outputs": [
    {
     "data": {
      "text/html": [
       "<div>\n",
       "<style scoped>\n",
       "    .dataframe tbody tr th:only-of-type {\n",
       "        vertical-align: middle;\n",
       "    }\n",
       "\n",
       "    .dataframe tbody tr th {\n",
       "        vertical-align: top;\n",
       "    }\n",
       "\n",
       "    .dataframe thead th {\n",
       "        text-align: right;\n",
       "    }\n",
       "</style>\n",
       "<table border=\"1\" class=\"dataframe\">\n",
       "  <thead>\n",
       "    <tr style=\"text-align: right;\">\n",
       "      <th></th>\n",
       "      <th>over_represented</th>\n",
       "      <th>under_represented</th>\n",
       "    </tr>\n",
       "  </thead>\n",
       "  <tbody>\n",
       "    <tr>\n",
       "      <th>ALTERSKATEGORIE_GROB</th>\n",
       "      <td>3.776678</td>\n",
       "      <td>2.711231</td>\n",
       "    </tr>\n",
       "    <tr>\n",
       "      <th>ANREDE_KZ</th>\n",
       "      <td>0.888984</td>\n",
       "      <td>1.805390</td>\n",
       "    </tr>\n",
       "    <tr>\n",
       "      <th>FINANZ_MINIMALIST</th>\n",
       "      <td>5.552867</td>\n",
       "      <td>2.823811</td>\n",
       "    </tr>\n",
       "    <tr>\n",
       "      <th>FINANZ_SPARER</th>\n",
       "      <td>0.953701</td>\n",
       "      <td>2.330870</td>\n",
       "    </tr>\n",
       "    <tr>\n",
       "      <th>FINANZ_VORSORGER</th>\n",
       "      <td>4.946439</td>\n",
       "      <td>3.796456</td>\n",
       "    </tr>\n",
       "  </tbody>\n",
       "</table>\n",
       "</div>"
      ],
      "text/plain": [
       "                      over_represented  under_represented\n",
       "ALTERSKATEGORIE_GROB          3.776678           2.711231\n",
       "ANREDE_KZ                     0.888984           1.805390\n",
       "FINANZ_MINIMALIST             5.552867           2.823811\n",
       "FINANZ_SPARER                 0.953701           2.330870\n",
       "FINANZ_VORSORGER              4.946439           3.796456"
      ]
     },
     "execution_count": 75,
     "metadata": {},
     "output_type": "execute_result"
    }
   ],
   "source": [
    "# concatenating the two series in a dataframe\n",
    "comparison = pd.concat([over_represented, under_represented], axis=1)\n",
    "comparison.head()"
   ]
  },
  {
   "cell_type": "code",
   "execution_count": 76,
   "metadata": {},
   "outputs": [
    {
     "name": "stdout",
     "output_type": "stream",
     "text": [
      "Feature:  WEALTH \n",
      "Description:  Status of individual wealth\n",
      "Over-Represented:  1.4250976169 \t Under-Represented:  3.72482988464\n",
      "::::::::::::::::::\n",
      "Feature:  KONSUMNAEHE \n",
      "Description:  Distance from building to point of sale (PoS)\n",
      "Over-Represented:  3.58364083053 \t Under-Represented:  2.21773715873\n",
      "::::::::::::::::::\n",
      "Feature:  ALTERSKATEGORIE_GROB \n",
      "Description:  Estimated age based on name\n",
      "Over-Represented:  3.77667843639 \t Under-Represented:  2.71123096508\n",
      "::::::::::::::::::\n",
      "Feature:  LIFE_STAGE \n",
      "Description:  Individual life stage\n",
      "Over-Represented:  4.02370389063 \t Under-Represented:  2.57795969007\n",
      "::::::::::::::::::\n",
      "Feature:  EWDICHTE \n",
      "Description:  Density of households per square kilometer\n",
      "Over-Represented:  3.74229057461 \t Under-Represented:  5.10717580625\n",
      "::::::::::::::::::\n",
      "Feature:  MOVEMENT \n",
      "Description:  Dominating movement of persons youth (avantgarde vs. mainstream)\n",
      "Over-Represented:  -0.452224699107 \t Under-Represented:  0.704418234322\n",
      "::::::::::::::::::\n",
      "Feature:  INNENSTADT \n",
      "Description:  Distance to downtown\n",
      "Over-Represented:  5.02482699033 \t Under-Represented:  3.55282766454\n",
      "::::::::::::::::::\n",
      "Feature:  PLZ8_ANTG3 \n",
      "Description:  Number of 6-10 family houses in the PLZ8 region\n",
      "Over-Represented:  0.950220090197 \t Under-Represented:  2.17674768533\n",
      "::::::::::::::::::\n"
     ]
    }
   ],
   "source": [
    "# Describing the customers of the mail-order company in terms of a subset of\n",
    "# the demographic features\n",
    "\n",
    "features_to_compare = {'WEALTH': 'Status of individual wealth', 'KONSUMNAEHE': 'Distance from building to point of sale (PoS)',\n",
    "                       'ALTERSKATEGORIE_GROB': 'Estimated age based on name', \n",
    "                       'LIFE_STAGE': 'Individual life stage', 'EWDICHTE': 'Density of households per square kilometer',\n",
    "                       'MOVEMENT': 'Dominating movement of persons youth (avantgarde vs. mainstream)',\n",
    "                       'INNENSTADT': 'Distance to downtown', 'PLZ8_ANTG3': 'Number of 6-10 family houses in the PLZ8 region'}\n",
    "\n",
    "for feat, description in features_to_compare.items():\n",
    "    print('Feature: ', feat, '\\nDescription: ', description)\n",
    "    print('Over-Represented: ', comparison.loc[feat, 'over_represented'], '\\t', 'Under-Represented: ', \n",
    "          comparison.loc[feat, 'under_represented'])\n",
    "    print('::::::::::::::::::')\n",
    "    "
   ]
  },
  {
   "cell_type": "markdown",
   "metadata": {},
   "source": [
    "### Discussion 3.3: Compare Customer Data to Demographics Data\n",
    "\n",
    "(Double-click this cell and replace this text with your own text, reporting findings and conclusions from the clustering analysis. Can we describe segments of the population that are relatively popular with the mail-order company, or relatively unpopular with the company?)\n",
    "\n",
    "Customers of the mail-order company are (compared to other segments of the population): more affluent (WEALTH = 1.4); tend to be older (families with children or older families; LIFE STAGE = 4); tend to live farther from downtown (INNENSTADT = 5); tend to live relatively far away from a Point of Sale (KONSUMNAEHE = 3.5); and tend to live in less densely populated areas (EWDICHTE = 3.7)."
   ]
  },
  {
   "cell_type": "markdown",
   "metadata": {},
   "source": [
    "> Congratulations on making it this far in the project! Before you finish, make sure to check through the entire notebook from top to bottom to make sure that your analysis follows a logical flow and all of your findings are documented in **Discussion** cells. Once you've checked over all of your work, you should export the notebook as an HTML document to submit for evaluation. You can do this from the menu, navigating to **File -> Download as -> HTML (.html)**. You will submit both that document and this notebook for your project submission."
   ]
  },
  {
   "cell_type": "code",
   "execution_count": null,
   "metadata": {},
   "outputs": [],
   "source": []
  }
 ],
 "metadata": {
  "kernelspec": {
   "display_name": "Python 3",
   "language": "python",
   "name": "python3"
  },
  "language_info": {
   "codemirror_mode": {
    "name": "ipython",
    "version": 3
   },
   "file_extension": ".py",
   "mimetype": "text/x-python",
   "name": "python",
   "nbconvert_exporter": "python",
   "pygments_lexer": "ipython3",
   "version": "3.7.1"
  }
 },
 "nbformat": 4,
 "nbformat_minor": 2
}
